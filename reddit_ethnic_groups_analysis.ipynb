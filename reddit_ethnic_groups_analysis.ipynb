{
 "cells": [
  {
   "cell_type": "markdown",
   "id": "6dec0dbe-3022-45ef-8ce7-a90f20bca52e",
   "metadata": {},
   "source": [
    "# Ethnic Groups on Reddit \n",
    "\n",
    "##### Data Bootcamp, Fall 2022\n",
    "##### Final Project\n",
    "##### Alex Chae (yc4324)"
   ]
  },
  {
   "cell_type": "markdown",
   "id": "70e5eb32-749e-45af-97d9-c8e7e424c46b",
   "metadata": {},
   "source": [
    "### About my Project\n"
   ]
  },
  {
   "cell_type": "markdown",
   "id": "2d2138dd-2aec-434f-b70f-d68f161e3f27",
   "metadata": {},
   "source": [
    "My project is about how different ethnic groups identify themselves on the social media platform Reddit. Grabbing 250 comments each from subreddits for Black, White, Hispanic, Asian American and Pacific Islanders users, I will look at the factors that differentiate these groups the most through classification methods. Using Natural Language Processing, I also plan to conduct sentiment analysis of each subreddit and looking at the most frequently discussed topics and words used in each subreddit. I expect such analysis to lead to interesting results, shedding light into how different ethnic groups interact within the anonymous social media platform of Reddit. "
   ]
  },
  {
   "cell_type": "code",
   "execution_count": null,
   "id": "ed74142f-1d80-4d64-a2cf-13c22ac3d45b",
   "metadata": {},
   "outputs": [],
   "source": [
    "import numpy as np\n",
    "import pandas as pd\n",
    "import matplotlib.pyplot as plt\n",
    "import seaborn as sns\n",
    "import datetime, requests, warnings, os\n",
    "warnings.filterwarnings('ignore')\n",
    "\n",
    "from sklearn.linear_model import LinearRegression, LogisticRegression\n",
    "from sklearn.preprocessing import OneHotEncoder, StandardScaler, PolynomialFeatures\n",
    "from sklearn.pipeline import Pipeline\n",
    "from sklearn.compose import make_column_transformer\n",
    "from sklearn.neighbors import KNeighborsClassifier\n",
    "from sklearn.metrics import confusion_matrix, ConfusionMatrixDisplay, mean_squared_error, silhouette_score, silhouette_samples\n",
    "from sklearn.model_selection import cross_val_score, train_test_split, GridSearchCV\n",
    "from sklearn.feature_extraction.text import CountVectorizer, TfidfVectorizer\n",
    "from IPython.display import Image\n",
    "from sklearn.naive_bayes import MultinomialNB\n",
    "from sklearn.tree import DecisionTreeClassifier, plot_tree\n",
    "from sklearn.ensemble import VotingClassifier, BaggingClassifier, AdaBoostClassifier, GradientBoostingClassifier\n",
    "from sklearn.inspection import permutation_importance\n",
    "from sklearn.cluster import KMeans, DBSCAN\n",
    "from statsmodels.tsa.seasonal import seasonal_decompose\n",
    "from statsmodels.tsa.stattools import adfuller\n",
    "import pmdarima as pmd\n",
    "\n",
    "import nltk\n",
    "from nltk.tokenize import sent_tokenize, word_tokenize, RegexpTokenizer\n",
    "from nltk.stem import WordNetLemmatizer\n",
    "from nltk.stem.porter import PorterStemmer\n",
    "from nltk.corpus import stopwords\n",
    "from nltk.sentiment.vader import SentimentIntensityAnalyzer\n",
    "\n",
    "from IPython.display import HTML"
   ]
  },
  {
   "cell_type": "markdown",
   "id": "855f2011-ba86-48a9-b823-249435cf8aaa",
   "metadata": {},
   "source": [
    "### Download Reddit Data, Clean Data"
   ]
  },
  {
   "cell_type": "code",
   "execution_count": null,
   "id": "9134131e-2069-40af-abf1-1ae1c09518f7",
   "metadata": {},
   "outputs": [],
   "source": [
    "url_black = 'https://api.pushshift.io/reddit/search/comment?subreddit=BlackPeopleTwitter&size=250'\n",
    "url_white = 'https://api.pushshift.io/reddit/search/comment?subreddit=WhitePeopleTwitter&size=250'\n",
    "url_aapi = 'https://api.pushshift.io/reddit/search/comment?subreddit=AsianAmerican&size=250'\n",
    "url_hispanic = 'https://api.pushshift.io/reddit/search/comment?subreddit=Hispanic&size=250'"
   ]
  },
  {
   "cell_type": "code",
   "execution_count": null,
   "id": "5d5a3c21-bcdb-454f-be1e-35ed44602169",
   "metadata": {
    "tags": []
   },
   "outputs": [],
   "source": [
    "r_black = requests.get(url_black)\n",
    "r_white = requests.get(url_white)\n",
    "r_aapi = requests.get(url_aapi)\n",
    "r_hispanic = requests.get(url_hispanic)\n",
    "data_black = r_black.json()\n",
    "data_white = r_white.json()\n",
    "data_aapi = r_aapi.json()\n",
    "data_hispanic = r_hispanic.json()"
   ]
  },
  {
   "cell_type": "code",
   "execution_count": null,
   "id": "c6080ed8-c50b-452e-b6c9-9e498ceb7139",
   "metadata": {},
   "outputs": [],
   "source": [
    "# Each list will contain reddit comments from the respective subreddit. \n",
    "ls_black = []\n",
    "ls_white = []\n",
    "ls_aapi = []\n",
    "ls_hispanic = []"
   ]
  },
  {
   "cell_type": "code",
   "execution_count": null,
   "id": "8b280ea4-b583-43c9-b64b-236537f737c4",
   "metadata": {},
   "outputs": [],
   "source": [
    "for cmt_black in data_black['data']:\n",
    "    ls_black.append(cmt_black['body'])\n",
    "for cmt_white in data_white['data']:\n",
    "    ls_white.append(cmt_white['body'])\n",
    "for cmt_aapi in data_aapi['data']:\n",
    "    ls_aapi.append(cmt_aapi['body'])\n",
    "for cmt_hispanic in data_hispanic['data']:\n",
    "    ls_hispanic.append(cmt_hispanic['body'])"
   ]
  },
  {
   "cell_type": "code",
   "execution_count": null,
   "id": "d97fdb70-b9b0-45d5-9abb-d58765404ffc",
   "metadata": {},
   "outputs": [],
   "source": [
    "# ls_all contains all the comments\n",
    "\n",
    "ls_all = []\n",
    "\n",
    "for c in ls_black:\n",
    "    ls_all.append((c, 'black'))\n",
    "for cc in ls_white:\n",
    "    ls_all.append((cc, 'white'))\n",
    "for ccc in ls_aapi:\n",
    "    ls_all.append((ccc, 'aapi'))\n",
    "for ccccc in ls_hispanic:\n",
    "    ls_all.append((ccccc, 'hispanic'))\n",
    "\n",
    "# Remove comment from ls_all if the comment has been removed by Reddit (a.k.a. contains nothing)\n",
    "for cmts in ls_all:\n",
    "    if ('removed' in cmts[0]):\n",
    "        ls_all.remove(cmts)"
   ]
  },
  {
   "cell_type": "code",
   "execution_count": null,
   "id": "57589bdf-09cb-49fc-a86c-75b67926d8a4",
   "metadata": {},
   "outputs": [],
   "source": [
    "ls_all[:5]"
   ]
  },
  {
   "cell_type": "code",
   "execution_count": null,
   "id": "dd08ca7e-1118-4d95-b77d-6f944443c267",
   "metadata": {
    "tags": []
   },
   "outputs": [],
   "source": [
    "# Making a dataframe of all comments\n",
    "\n",
    "ls_ethnicity = []\n",
    "ls_comments = []\n",
    "\n",
    "for pairs in ls_all:\n",
    "    ls_comments.append(pairs[0])\n",
    "    ls_ethnicity.append(pairs[1])\n",
    "\n",
    "df = pd.DataFrame({'Comment': ls_comments, 'Ethnicity': ls_ethnicity})"
   ]
  },
  {
   "cell_type": "code",
   "execution_count": null,
   "id": "8bbd1279-578d-4838-9754-a046092bb795",
   "metadata": {},
   "outputs": [],
   "source": [
    "# Save the dataframe as a csv file\n",
    "df.to_csv('data.csv', index=False)"
   ]
  },
  {
   "cell_type": "markdown",
   "id": "2cbb5416-4a35-4844-bdd6-ec3d2ab87e5c",
   "metadata": {},
   "source": [
    "### Import the Dataset"
   ]
  },
  {
   "cell_type": "code",
   "execution_count": 198,
   "id": "cc64caaf-5d09-4a68-a5d5-8894565188c9",
   "metadata": {},
   "outputs": [
    {
     "data": {
      "text/html": [
       "<div>\n",
       "<style scoped>\n",
       "    .dataframe tbody tr th:only-of-type {\n",
       "        vertical-align: middle;\n",
       "    }\n",
       "\n",
       "    .dataframe tbody tr th {\n",
       "        vertical-align: top;\n",
       "    }\n",
       "\n",
       "    .dataframe thead th {\n",
       "        text-align: right;\n",
       "    }\n",
       "</style>\n",
       "<table border=\"1\" class=\"dataframe\">\n",
       "  <thead>\n",
       "    <tr style=\"text-align: right;\">\n",
       "      <th></th>\n",
       "      <th>Comment</th>\n",
       "      <th>Ethnicity</th>\n",
       "    </tr>\n",
       "  </thead>\n",
       "  <tbody>\n",
       "    <tr>\n",
       "      <th>0</th>\n",
       "      <td>Pavement Ape low-key rolls off the tongue.</td>\n",
       "      <td>black</td>\n",
       "    </tr>\n",
       "    <tr>\n",
       "      <th>1</th>\n",
       "      <td>They got Trevor Reed out earlier this year. He...</td>\n",
       "      <td>black</td>\n",
       "    </tr>\n",
       "    <tr>\n",
       "      <th>2</th>\n",
       "      <td>I used to run through a heavy Mexican gang are...</td>\n",
       "      <td>black</td>\n",
       "    </tr>\n",
       "    <tr>\n",
       "      <th>3</th>\n",
       "      <td>He gloated about that bullshit in our face for...</td>\n",
       "      <td>black</td>\n",
       "    </tr>\n",
       "    <tr>\n",
       "      <th>4</th>\n",
       "      <td>Good luck. I'm not married yet, but recently l...</td>\n",
       "      <td>black</td>\n",
       "    </tr>\n",
       "  </tbody>\n",
       "</table>\n",
       "</div>"
      ],
      "text/plain": [
       "                                             Comment Ethnicity\n",
       "0         Pavement Ape low-key rolls off the tongue.     black\n",
       "1  They got Trevor Reed out earlier this year. He...     black\n",
       "2  I used to run through a heavy Mexican gang are...     black\n",
       "3  He gloated about that bullshit in our face for...     black\n",
       "4  Good luck. I'm not married yet, but recently l...     black"
      ]
     },
     "execution_count": 198,
     "metadata": {},
     "output_type": "execute_result"
    }
   ],
   "source": [
    "# Read the csv file dataset\n",
    "df = pd.read_csv('data.csv')\n",
    "df.head()"
   ]
  },
  {
   "cell_type": "code",
   "execution_count": 199,
   "id": "e0fb07e5-a92d-4bd7-8be0-9936334f201f",
   "metadata": {},
   "outputs": [
    {
     "data": {
      "text/plain": [
       "hispanic    248\n",
       "white       241\n",
       "aapi        229\n",
       "black       191\n",
       "Name: Ethnicity, dtype: int64"
      ]
     },
     "execution_count": 199,
     "metadata": {},
     "output_type": "execute_result"
    }
   ],
   "source": [
    "# See how many comments from each ethnicity are included in the dataset\n",
    "pd.value_counts(df['Ethnicity'])"
   ]
  },
  {
   "cell_type": "code",
   "execution_count": 200,
   "id": "9a22fe76-1c0d-47cc-a8af-f6bbb58939ef",
   "metadata": {},
   "outputs": [
    {
     "data": {
      "image/png": "[encoded data removed]",
      "text/plain": [
       "<Figure size 432x288 with 1 Axes>"
      ]
     },
     "metadata": {
      "needs_background": "light"
     },
     "output_type": "display_data"
    }
   ],
   "source": [
    "pd.value_counts(df['Ethnicity']).plot.bar();"
   ]
  },
  {
   "cell_type": "markdown",
   "id": "8e3523af-b683-4c9c-b507-a27e369367ca",
   "metadata": {},
   "source": [
    "The number of comments from each ethnicity. Although the numbers vary, there are around the same number of comments from each ethnicity, so I will continue to use this dataset for further analysis. "
   ]
  },
  {
   "cell_type": "markdown",
   "id": "8296335b-58d0-48e3-982e-27c92a198793",
   "metadata": {},
   "source": [
    "### Each Ethnicity"
   ]
  },
  {
   "cell_type": "markdown",
   "id": "0f3b54ad-bfdf-42e6-98da-a5c8ede9785c",
   "metadata": {},
   "source": [
    "I will first look at the data for each ethnicity and identify some characteristics. "
   ]
  },
  {
   "cell_type": "markdown",
   "id": "17e2de00-4f82-47d1-ae76-17644c424859",
   "metadata": {},
   "source": [
    "#### Black Subreddit"
   ]
  },
  {
   "cell_type": "code",
   "execution_count": 304,
   "id": "d577c714-75d6-4aae-9017-960d4629049a",
   "metadata": {},
   "outputs": [],
   "source": [
    "df_black = df.loc[df['Ethnicity'] == 'black']\n",
    "ls_black = list(df_black['Comment'])"
   ]
  },
  {
   "cell_type": "markdown",
   "id": "15faaeef-8b4c-4b1e-a6d8-a92aab59016d",
   "metadata": {},
   "source": [
    "#### White Subreddit"
   ]
  },
  {
   "cell_type": "code",
   "execution_count": 305,
   "id": "359be427-0dd8-4b1c-a147-f87a40a5a811",
   "metadata": {},
   "outputs": [],
   "source": [
    "df_white = df.loc[df['Ethnicity'] == 'white']\n",
    "ls_white = list(df_white['Comment'])"
   ]
  },
  {
   "cell_type": "markdown",
   "id": "2c5e0a0d-01ef-43fa-8f5d-da9ca89dace4",
   "metadata": {},
   "source": [
    "#### Hispanic Subreddit"
   ]
  },
  {
   "cell_type": "code",
   "execution_count": 306,
   "id": "b3efc63c-c496-4dff-a4cd-c81bf913cc90",
   "metadata": {},
   "outputs": [],
   "source": [
    "df_hisp = df.loc[df['Ethnicity'] == 'hispanic']\n",
    "ls_hisp = list(df_hisp['Comment'])"
   ]
  },
  {
   "cell_type": "markdown",
   "id": "3d2f46cb-e45f-41ba-a84d-02643c8eb49f",
   "metadata": {},
   "source": [
    "#### AAPI Subreddit"
   ]
  },
  {
   "cell_type": "code",
   "execution_count": 307,
   "id": "9d51a2f0-c6c9-4657-a05a-6caa39703039",
   "metadata": {},
   "outputs": [],
   "source": [
    "df_aapi = df.loc[df['Ethnicity'] == 'aapi']\n",
    "ls_aapi = list(df_aapi['Comment'])"
   ]
  },
  {
   "cell_type": "markdown",
   "id": "7fac02c1-7f5c-4510-8c40-aa478e28d495",
   "metadata": {},
   "source": [
    "After creating dataframes for each ethnicity, I plan to stem the comments before analyzing more. "
   ]
  },
  {
   "cell_type": "markdown",
   "id": "38410584-445a-498f-aacd-a348de452934",
   "metadata": {},
   "source": [
    "#### Stem Black Subreddit"
   ]
  },
  {
   "cell_type": "code",
   "execution_count": 308,
   "id": "73e99eab-7aea-4cdf-b098-ddfc0afb4926",
   "metadata": {},
   "outputs": [],
   "source": [
    "stemmer = PorterStemmer()"
   ]
  },
  {
   "cell_type": "code",
   "execution_count": 309,
   "id": "8a5ff5a3-a377-4d0b-885c-f75a097a230d",
   "metadata": {},
   "outputs": [
    {
     "data": {
      "text/plain": [
       "['pavement ape low-key roll off the tongue.',\n",
       " 'they got trevor reed out earlier thi year. he wa guilti of a crime. he wa pasty. he attack a polic officer. you peopl should do your research befor talk about thing you know noth about.']"
      ]
     },
     "execution_count": 309,
     "metadata": {},
     "output_type": "execute_result"
    }
   ],
   "source": [
    "# ls_black_splt splits each comment into separate tokens within a list for stemming. \n",
    "ls_black_splt= []\n",
    "\n",
    "for cmt in ls_black:\n",
    "    cmt_split = cmt.split()\n",
    "    ls_black_splt.append(cmt_split)\n",
    "\n",
    "ls_black_stem = []\n",
    "\n",
    "for cmts in ls_black_splt:\n",
    "    ls_cmt = []\n",
    "    for words in cmts:\n",
    "        ls_cmt.append(stemmer.stem(words))\n",
    "    sep = \" \"\n",
    "    cmt = sep.join(ls_cmt)\n",
    "    ls_black_stem.append(cmt)\n",
    "    \n",
    "df_black_s = pd.DataFrame({'Comment': ls_black_stem, 'Ethnicity': 'Black'})\n",
    "\n",
    "# We see here that each word in the comments are all reducted to their root form. \n",
    "ls_black_stem[:2]"
   ]
  },
  {
   "cell_type": "code",
   "execution_count": 310,
   "id": "04595a88-7fa8-4d47-b2ad-fadd7ba20411",
   "metadata": {},
   "outputs": [],
   "source": [
    "cvect_black_s = CountVectorizer(stop_words='english')\n",
    "black_cv_s = cvect_black_s.fit_transform(df_black_s['Comment'])\n",
    "\n",
    "cvect_black_df_s = pd.DataFrame({'Token': list(cvect_black_s.vocabulary_.keys()), 'Count': list(cvect_black_s.vocabulary_.values())})\n",
    "cvect_black_df_s = cvect_black_df_s.sort_values(by = 'Count', ascending= False)\n",
    "\n",
    "top_words_black_s = []\n",
    "for word in cvect_black_df_s['Token'][:20]:\n",
    "    top_words_black_s.append(word.strip())"
   ]
  },
  {
   "cell_type": "markdown",
   "id": "df17ffba-a617-45db-89ec-9c5610d20cc2",
   "metadata": {},
   "source": [
    "#### Stem White Subreddit"
   ]
  },
  {
   "cell_type": "code",
   "execution_count": 311,
   "id": "11fb847d-3e07-461a-a036-f52a5f103a94",
   "metadata": {},
   "outputs": [],
   "source": [
    "# ls_white_splt splits each comment into separate tokens within a list for stemming. \n",
    "ls_white_splt= []\n",
    "\n",
    "for cmt in ls_white:\n",
    "    cmt_split = cmt.split()\n",
    "    ls_white_splt.append(cmt_split)\n",
    "\n",
    "ls_white_stem = []\n",
    "\n",
    "for cmts in ls_white_splt:\n",
    "    ls_cmt = []\n",
    "    for words in cmts:\n",
    "        ls_cmt.append(stemmer.stem(words))\n",
    "    sep = \" \"\n",
    "    cmt = sep.join(ls_cmt)\n",
    "    ls_white_stem.append(cmt)\n",
    "\n",
    "df_white_s = pd.DataFrame({'Comment': ls_white_stem, 'Ethnicity': 'White'})\n",
    "\n",
    "cvect_white_s = CountVectorizer(stop_words='english')\n",
    "white_cv_s = cvect_white_s.fit_transform(df_white_s['Comment'])\n",
    "\n",
    "cvect_white_df_s = pd.DataFrame({'Token': list(cvect_white_s.vocabulary_.keys()), 'Count': list(cvect_white_s.vocabulary_.values())})\n",
    "cvect_white_df_s = cvect_white_df_s.sort_values(by = 'Count', ascending= False)\n",
    "\n",
    "top_words_white_s = []\n",
    "for word in cvect_white_df_s['Token'][:20]:\n",
    "    top_words_white_s.append(word.strip())"
   ]
  },
  {
   "cell_type": "markdown",
   "id": "ac678bf0-593f-4078-9019-0cc7fa9ed121",
   "metadata": {},
   "source": [
    "#### Stem Hispanic Subreddit"
   ]
  },
  {
   "cell_type": "code",
   "execution_count": 312,
   "id": "e756afa9-d0f0-4d76-8af6-3b89d1288464",
   "metadata": {},
   "outputs": [],
   "source": [
    "# ls_h_splt splits each comment into separate tokens within a list for stemming. \n",
    "ls_h_splt= []\n",
    "\n",
    "for cmt in ls_hisp:\n",
    "    cmt_split = cmt.split()\n",
    "    ls_h_splt.append(cmt_split)\n",
    "\n",
    "ls_h_stem = []\n",
    "\n",
    "for cmts in ls_h_splt:\n",
    "    ls_cmt = []\n",
    "    for words in cmts:\n",
    "        ls_cmt.append(stemmer.stem(words))\n",
    "    sep = \" \"\n",
    "    cmt = sep.join(ls_cmt)\n",
    "    ls_h_stem.append(cmt)\n",
    "\n",
    "df_hisp_s = pd.DataFrame({'Comment': ls_h_stem, 'Ethnicity': 'Hispanic'})\n",
    "\n",
    "cvect_h_s = CountVectorizer(stop_words='english')\n",
    "h_cv_s = cvect_h_s.fit_transform(df_hisp_s['Comment'])\n",
    "\n",
    "cvect_h_df_s = pd.DataFrame({'Token': list(cvect_h_s.vocabulary_.keys()), 'Count': list(cvect_h_s.vocabulary_.values())})\n",
    "cvect_h_df_s = cvect_h_df_s.sort_values(by = 'Count', ascending= False)\n",
    "\n",
    "top_words_h_s = []\n",
    "for word in cvect_h_df_s['Token'][:20]:\n",
    "    top_words_h_s.append(word.strip())"
   ]
  },
  {
   "cell_type": "markdown",
   "id": "00fa25d8-4287-4903-87ff-8b60d6216637",
   "metadata": {},
   "source": [
    "#### Stem AAPI Subreddit"
   ]
  },
  {
   "cell_type": "code",
   "execution_count": 313,
   "id": "9ab02b35-b950-461e-8688-8ce1ec5c12ed",
   "metadata": {},
   "outputs": [],
   "source": [
    "# ls_aapi_splt splits each comment into separate tokens within a list for stemming. \n",
    "ls_aapi_splt= []\n",
    "\n",
    "for cmt in ls_aapi:\n",
    "    cmt_split = cmt.split()\n",
    "    ls_aapi_splt.append(cmt_split)\n",
    "\n",
    "ls_aapi_stem = []\n",
    "\n",
    "for cmts in ls_aapi_splt:\n",
    "    ls_cmt = []\n",
    "    for words in cmts:\n",
    "        ls_cmt.append(stemmer.stem(words))\n",
    "    sep = \" \"\n",
    "    cmt = sep.join(ls_cmt)\n",
    "    ls_aapi_stem.append(cmt)\n",
    "\n",
    "df_aapi_s = pd.DataFrame({'Comment': ls_aapi_stem, 'Ethnicity': 'AAPI'})\n",
    "    \n",
    "cvect_aapi_s = CountVectorizer(stop_words='english')\n",
    "aapi_cv_s = cvect_aapi_s.fit_transform(df_aapi_s['Comment'])\n",
    "\n",
    "cvect_aapi_df_s = pd.DataFrame({'Token': list(cvect_aapi_s.vocabulary_.keys()), 'Count': list(cvect_aapi_s.vocabulary_.values())})\n",
    "cvect_aapi_df_s = cvect_aapi_df_s.sort_values(by = 'Count', ascending= False)\n",
    "\n",
    "top_words_aapi_s = []\n",
    "for word in cvect_aapi_df_s['Token'][:20]:\n",
    "    top_words_aapi_s.append(word.strip())"
   ]
  },
  {
   "cell_type": "code",
   "execution_count": 314,
   "id": "686fab49-5466-404a-8286-9db27f544515",
   "metadata": {},
   "outputs": [
    {
     "data": {
      "text/html": [
       "<div>\n",
       "<style scoped>\n",
       "    .dataframe tbody tr th:only-of-type {\n",
       "        vertical-align: middle;\n",
       "    }\n",
       "\n",
       "    .dataframe tbody tr th {\n",
       "        vertical-align: top;\n",
       "    }\n",
       "\n",
       "    .dataframe thead th {\n",
       "        text-align: right;\n",
       "    }\n",
       "</style>\n",
       "<table border=\"1\" class=\"dataframe\">\n",
       "  <thead>\n",
       "    <tr style=\"text-align: right;\">\n",
       "      <th></th>\n",
       "      <th>Black</th>\n",
       "      <th>White</th>\n",
       "      <th>Hispanic</th>\n",
       "      <th>AAPI</th>\n",
       "    </tr>\n",
       "  </thead>\n",
       "  <tbody>\n",
       "    <tr>\n",
       "      <th>0</th>\n",
       "      <td>yup</td>\n",
       "      <td>zeusnostic</td>\n",
       "      <td>único</td>\n",
       "      <td>zej75z</td>\n",
       "    </tr>\n",
       "    <tr>\n",
       "      <th>1</th>\n",
       "      <td>yt</td>\n",
       "      <td>zeu</td>\n",
       "      <td>zootsuits</td>\n",
       "      <td>yt</td>\n",
       "    </tr>\n",
       "    <tr>\n",
       "      <th>2</th>\n",
       "      <td>youtube</td>\n",
       "      <td>zelenski</td>\n",
       "      <td>zombi</td>\n",
       "      <td>youtub</td>\n",
       "    </tr>\n",
       "    <tr>\n",
       "      <th>3</th>\n",
       "      <td>yooouuuu</td>\n",
       "      <td>zach</td>\n",
       "      <td>zero</td>\n",
       "      <td>young</td>\n",
       "    </tr>\n",
       "    <tr>\n",
       "      <th>4</th>\n",
       "      <td>yojc2pohbzshr5pdbi</td>\n",
       "      <td>younger</td>\n",
       "      <td>zendaya</td>\n",
       "      <td>yorker</td>\n",
       "    </tr>\n",
       "    <tr>\n",
       "      <th>5</th>\n",
       "      <td>yo</td>\n",
       "      <td>yes</td>\n",
       "      <td>zapata</td>\n",
       "      <td>york</td>\n",
       "    </tr>\n",
       "    <tr>\n",
       "      <th>6</th>\n",
       "      <td>yiclki5eqdmus</td>\n",
       "      <td>yep</td>\n",
       "      <td>yup</td>\n",
       "      <td>yikes</td>\n",
       "    </tr>\n",
       "    <tr>\n",
       "      <th>7</th>\n",
       "      <td>yeti</td>\n",
       "      <td>yell</td>\n",
       "      <td>youtub</td>\n",
       "      <td>yike</td>\n",
       "    </tr>\n",
       "    <tr>\n",
       "      <th>8</th>\n",
       "      <td>yeast</td>\n",
       "      <td>years</td>\n",
       "      <td>youtu</td>\n",
       "      <td>yes</td>\n",
       "    </tr>\n",
       "    <tr>\n",
       "      <th>9</th>\n",
       "      <td>years</td>\n",
       "      <td>year</td>\n",
       "      <td>youngest</td>\n",
       "      <td>yeoh</td>\n",
       "    </tr>\n",
       "    <tr>\n",
       "      <th>10</th>\n",
       "      <td>year</td>\n",
       "      <td>yeah</td>\n",
       "      <td>younger</td>\n",
       "      <td>yellow</td>\n",
       "    </tr>\n",
       "    <tr>\n",
       "      <th>11</th>\n",
       "      <td>yeah</td>\n",
       "      <td>yawn</td>\n",
       "      <td>yo</td>\n",
       "      <td>years</td>\n",
       "    </tr>\n",
       "    <tr>\n",
       "      <th>12</th>\n",
       "      <td>yea</td>\n",
       "      <td>yak</td>\n",
       "      <td>yes</td>\n",
       "      <td>yearli</td>\n",
       "    </tr>\n",
       "    <tr>\n",
       "      <th>13</th>\n",
       "      <td>ye</td>\n",
       "      <td>yahoo</td>\n",
       "      <td>years</td>\n",
       "      <td>year</td>\n",
       "    </tr>\n",
       "    <tr>\n",
       "      <th>14</th>\n",
       "      <td>yall</td>\n",
       "      <td>ya</td>\n",
       "      <td>year</td>\n",
       "      <td>yeah</td>\n",
       "    </tr>\n",
       "    <tr>\n",
       "      <th>15</th>\n",
       "      <td>www</td>\n",
       "      <td>x200b</td>\n",
       "      <td>yeah</td>\n",
       "      <td>yea</td>\n",
       "    </tr>\n",
       "    <tr>\n",
       "      <th>16</th>\n",
       "      <td>wrote</td>\n",
       "      <td>www</td>\n",
       "      <td>yea</td>\n",
       "      <td>ye</td>\n",
       "    </tr>\n",
       "    <tr>\n",
       "      <th>17</th>\n",
       "      <td>wrong</td>\n",
       "      <td>ww2</td>\n",
       "      <td>ye</td>\n",
       "      <td>ya</td>\n",
       "    </tr>\n",
       "    <tr>\n",
       "      <th>18</th>\n",
       "      <td>writer</td>\n",
       "      <td>wtf</td>\n",
       "      <td>yangá</td>\n",
       "      <td>xenophobia</td>\n",
       "    </tr>\n",
       "    <tr>\n",
       "      <th>19</th>\n",
       "      <td>write</td>\n",
       "      <td>wrong</td>\n",
       "      <td>yah</td>\n",
       "      <td>xcdhgq</td>\n",
       "    </tr>\n",
       "  </tbody>\n",
       "</table>\n",
       "</div>"
      ],
      "text/plain": [
       "                 Black       White   Hispanic        AAPI\n",
       "0                  yup  zeusnostic      único      zej75z\n",
       "1                   yt         zeu  zootsuits          yt\n",
       "2              youtube    zelenski      zombi      youtub\n",
       "3             yooouuuu        zach       zero       young\n",
       "4   yojc2pohbzshr5pdbi     younger    zendaya      yorker\n",
       "5                   yo         yes     zapata        york\n",
       "6        yiclki5eqdmus         yep        yup       yikes\n",
       "7                 yeti        yell     youtub        yike\n",
       "8                yeast       years      youtu         yes\n",
       "9                years        year   youngest        yeoh\n",
       "10                year        yeah    younger      yellow\n",
       "11                yeah        yawn         yo       years\n",
       "12                 yea         yak        yes      yearli\n",
       "13                  ye       yahoo      years        year\n",
       "14                yall          ya       year        yeah\n",
       "15                 www       x200b       yeah         yea\n",
       "16               wrote         www        yea          ye\n",
       "17               wrong         ww2         ye          ya\n",
       "18              writer         wtf      yangá  xenophobia\n",
       "19               write       wrong        yah      xcdhgq"
      ]
     },
     "execution_count": 314,
     "metadata": {},
     "output_type": "execute_result"
    }
   ],
   "source": [
    "top_words_s = pd.DataFrame({'Black' : top_words_black_s, 'White' : top_words_white_s, 'Hispanic' : top_words_h_s, 'AAPI': top_words_aapi_s})\n",
    "top_words_s"
   ]
  },
  {
   "cell_type": "markdown",
   "id": "527498eb-13d8-4c4d-a5ea-787c442bccdd",
   "metadata": {},
   "source": [
    "The table above shows the top 20 most frequently occuring stemmed words in each subreddit. We see that \"youtube\" is a common word that appears frequently in all of the subreddits. Also, there are some slang and derogatory terms that are appearing frequently. Through this table, we can notice some of the common themes that are talked about in each subreddit. In the Blakc subreddit, there are many words refering to one another, such as \"yo\" and \"yall\", and some words related to writing. Hence, this suggests that the Black subreddit contains a lot of conversations between the Reddit users and writing or literature is a frequent theme. "
   ]
  },
  {
   "cell_type": "markdown",
   "id": "b3347156-cac2-4d59-960a-3d4f25facc67",
   "metadata": {},
   "source": [
    "Among the White users, the are words like \"Zelenski\" and \"Zack\" that most likely refer to an individual. Discussions on these individuals may be freqent in the White subreddit. "
   ]
  },
  {
   "cell_type": "markdown",
   "id": "4fd4c83c-7a1a-4b0b-8d19-ef1563581773",
   "metadata": {},
   "source": [
    "Among the Hispanic users, there are some Spanish words used, such as \"único\" and \"zapata.\" This shows that in this community, many users choose to talk in Spanish, rather than English, as it is a language related to their ethnicity. "
   ]
  },
  {
   "cell_type": "markdown",
   "id": "f657892f-8a1c-43fd-aa00-27f5ab8d9a30",
   "metadata": {},
   "source": [
    "Among the AAPI users, \"xenophobia\" is a word that appears frequently, which suggests that discussions on racism is common. "
   ]
  },
  {
   "cell_type": "markdown",
   "id": "15d3647e-272b-4f12-9b41-1d78c25d8f0b",
   "metadata": {},
   "source": [
    "### Bigrams for Each Ethnicity "
   ]
  },
  {
   "cell_type": "markdown",
   "id": "ebafc0a3-5d22-4e46-949b-324f0373da50",
   "metadata": {},
   "source": [
    "Although the table above with the frequency of each token in the comments shows some interesting insights into each subreddit, some information are lacking. As the table above, made with each individual token might not provide the best outcome considering the context and structure of the tokens, I would like to do count the occurence of each bigram. "
   ]
  },
  {
   "cell_type": "markdown",
   "id": "61996565-59c4-416b-9710-f1d5376a2232",
   "metadata": {},
   "source": [
    "#### Black Subreddit"
   ]
  },
  {
   "cell_type": "code",
   "execution_count": 244,
   "id": "76d16ee5-9efd-4e91-b0e7-b8042a22e89e",
   "metadata": {},
   "outputs": [],
   "source": [
    "df_black_2 = df.loc[df['Ethnicity'] == 'black']\n",
    "\n",
    "cvect_black_2 = CountVectorizer(stop_words='english', ngram_range = (1, 2))\n",
    "black_cv_2 = cvect_black_2.fit_transform(df_black_2['Comment'])\n",
    "\n",
    "cvect_black_df_2 = pd.DataFrame({'Token': list(cvect_black_2.vocabulary_.keys()), 'Count': list(cvect_black_2.vocabulary_.values())}).sort_values(by = 'Count', ascending= False)\n",
    "\n",
    "top_words_black_2 = []\n",
    "for word in cvect_black_df_2['Token'][:20]:\n",
    "    top_words_black_2.append(word.strip())"
   ]
  },
  {
   "cell_type": "markdown",
   "id": "677a8d2a-c3a8-413c-ba26-9225844e8a6c",
   "metadata": {},
   "source": [
    "#### White Subreddit"
   ]
  },
  {
   "cell_type": "code",
   "execution_count": 245,
   "id": "d56486db-6eff-4006-b5cf-5713e3661865",
   "metadata": {},
   "outputs": [],
   "source": [
    "df_white_2 = df.loc[df['Ethnicity'] == 'white']\n",
    "\n",
    "cvect_white_2 = CountVectorizer(stop_words='english', ngram_range = (1, 2))\n",
    "white_cv_2 = cvect_white_2.fit_transform(df_white_2['Comment'])\n",
    "\n",
    "cvect_white_df_2 = pd.DataFrame({'Token': list(cvect_white_2.vocabulary_.keys()), 'Count': list(cvect_white_2.vocabulary_.values())}).sort_values(by = 'Count', ascending= False)\n",
    "\n",
    "top_words_white_2 = []\n",
    "for word in cvect_white_df_2['Token'][:20]:\n",
    "    top_words_white_2.append(word.strip())"
   ]
  },
  {
   "cell_type": "markdown",
   "id": "29fc1abf-1c24-47d8-88d1-b34a6e06d5ce",
   "metadata": {},
   "source": [
    "#### Hispanic Subreddit"
   ]
  },
  {
   "cell_type": "code",
   "execution_count": 247,
   "id": "98c67776-ce36-46bf-abeb-b828f857abab",
   "metadata": {},
   "outputs": [],
   "source": [
    "df_hisp_2 = df.loc[df['Ethnicity'] == 'hispanic']\n",
    "\n",
    "cvect_hisp_2 = CountVectorizer(stop_words='english', ngram_range = (1, 2))\n",
    "hisp_cv_2 = cvect_hisp_2.fit_transform(df_hisp_2['Comment'])\n",
    "\n",
    "cvect_hisp_df_2 = pd.DataFrame({'Token': list(cvect_hisp_2.vocabulary_.keys()), 'Count': list(cvect_hisp_2.vocabulary_.values())}).sort_values(by = 'Count', ascending= False)\n",
    "\n",
    "top_words_hisp_2 = []\n",
    "for word in cvect_hisp_df_2['Token'][:20]:\n",
    "    top_words_hisp_2.append(word.strip())"
   ]
  },
  {
   "cell_type": "markdown",
   "id": "b673df45-c445-4ef8-bc22-a88389b33424",
   "metadata": {},
   "source": [
    "#### AAPI Subreddit"
   ]
  },
  {
   "cell_type": "code",
   "execution_count": 248,
   "id": "7dc50eca-4743-4c9f-9d34-f812ec179b7c",
   "metadata": {},
   "outputs": [],
   "source": [
    "df_aapi_2 = df.loc[df['Ethnicity'] == 'aapi']\n",
    "\n",
    "cvect_aapi_2 = CountVectorizer(stop_words='english', ngram_range = (1, 2))\n",
    "aapi_cv_2 = cvect_aapi_2.fit_transform(df_aapi_2['Comment'])\n",
    "\n",
    "cvect_aapi_df_2 = pd.DataFrame({'Token': list(cvect_aapi_2.vocabulary_.keys()), 'Count': list(cvect_aapi_2.vocabulary_.values())}).sort_values(by = 'Count', ascending= False)\n",
    "\n",
    "top_words_aapi_2 = []\n",
    "for word in cvect_aapi_df_2['Token'][:20]:\n",
    "    top_words_aapi_2.append(word.strip())"
   ]
  },
  {
   "cell_type": "code",
   "execution_count": 249,
   "id": "1e9db36f-6786-4a95-bb34-75c59d21ac3b",
   "metadata": {},
   "outputs": [
    {
     "data": {
      "text/html": [
       "<div>\n",
       "<style scoped>\n",
       "    .dataframe tbody tr th:only-of-type {\n",
       "        vertical-align: middle;\n",
       "    }\n",
       "\n",
       "    .dataframe tbody tr th {\n",
       "        vertical-align: top;\n",
       "    }\n",
       "\n",
       "    .dataframe thead th {\n",
       "        text-align: right;\n",
       "    }\n",
       "</style>\n",
       "<table border=\"1\" class=\"dataframe\">\n",
       "  <thead>\n",
       "    <tr style=\"text-align: right;\">\n",
       "      <th></th>\n",
       "      <th>Black</th>\n",
       "      <th>White</th>\n",
       "      <th>Hispanic</th>\n",
       "      <th>AAPI</th>\n",
       "    </tr>\n",
       "  </thead>\n",
       "  <tbody>\n",
       "    <tr>\n",
       "      <th>0</th>\n",
       "      <td>yup race</td>\n",
       "      <td>zeusnostic</td>\n",
       "      <td>único que</td>\n",
       "      <td>zej75z speed_being_racist_to_a_chinese_person</td>\n",
       "    </tr>\n",
       "    <tr>\n",
       "      <th>1</th>\n",
       "      <td>yup</td>\n",
       "      <td>zeus exists</td>\n",
       "      <td>único</td>\n",
       "      <td>zej75z</td>\n",
       "    </tr>\n",
       "    <tr>\n",
       "      <th>2</th>\n",
       "      <td>yt woman</td>\n",
       "      <td>zeus doesn</td>\n",
       "      <td>zootsuits remember</td>\n",
       "      <td>yt ppl</td>\n",
       "    </tr>\n",
       "    <tr>\n",
       "      <th>3</th>\n",
       "      <td>yt ladies</td>\n",
       "      <td>zeus</td>\n",
       "      <td>zootsuits</td>\n",
       "      <td>yt</td>\n",
       "    </tr>\n",
       "    <tr>\n",
       "      <th>4</th>\n",
       "      <td>yt</td>\n",
       "      <td>zelensky tv</td>\n",
       "      <td>zombie dog</td>\n",
       "      <td>youtubers interviewed</td>\n",
       "    </tr>\n",
       "    <tr>\n",
       "      <th>5</th>\n",
       "      <td>youtube com</td>\n",
       "      <td>zelensky</td>\n",
       "      <td>zombie</td>\n",
       "      <td>youtubers</td>\n",
       "    </tr>\n",
       "    <tr>\n",
       "      <th>6</th>\n",
       "      <td>youtube</td>\n",
       "      <td>zach new</td>\n",
       "      <td>zero importance</td>\n",
       "      <td>youtube videos</td>\n",
       "    </tr>\n",
       "    <tr>\n",
       "      <th>7</th>\n",
       "      <td>yooouuuu mom</td>\n",
       "      <td>zach</td>\n",
       "      <td>zero</td>\n",
       "      <td>youtube channel</td>\n",
       "    </tr>\n",
       "    <tr>\n",
       "      <th>8</th>\n",
       "      <td>yooouuuu</td>\n",
       "      <td>younger brother</td>\n",
       "      <td>zendaya just</td>\n",
       "      <td>youtube</td>\n",
       "    </tr>\n",
       "    <tr>\n",
       "      <th>9</th>\n",
       "      <td>yojc2pohbzshr5pdbi downsized</td>\n",
       "      <td>younger</td>\n",
       "      <td>zendaya</td>\n",
       "      <td>young working</td>\n",
       "    </tr>\n",
       "    <tr>\n",
       "      <th>10</th>\n",
       "      <td>yojc2pohbzshr5pdbi</td>\n",
       "      <td>yes stalled</td>\n",
       "      <td>zapata marielle</td>\n",
       "      <td>young people</td>\n",
       "    </tr>\n",
       "    <tr>\n",
       "      <th>11</th>\n",
       "      <td>yo flair</td>\n",
       "      <td>yes good</td>\n",
       "      <td>zapata</td>\n",
       "      <td>young haven</td>\n",
       "    </tr>\n",
       "    <tr>\n",
       "      <th>12</th>\n",
       "      <td>yo</td>\n",
       "      <td>yes entire</td>\n",
       "      <td>yup</td>\n",
       "      <td>young</td>\n",
       "    </tr>\n",
       "    <tr>\n",
       "      <th>13</th>\n",
       "      <td>yiclki5eqdmus</td>\n",
       "      <td>yes elon</td>\n",
       "      <td>youtube videos</td>\n",
       "      <td>yorker used</td>\n",
       "    </tr>\n",
       "    <tr>\n",
       "      <th>14</th>\n",
       "      <td>yeti got</td>\n",
       "      <td>yes course</td>\n",
       "      <td>youtube</td>\n",
       "      <td>yorker</td>\n",
       "    </tr>\n",
       "    <tr>\n",
       "      <th>15</th>\n",
       "      <td>yeti</td>\n",
       "      <td>yes absolutely</td>\n",
       "      <td>youtu _inqqjrqgw4</td>\n",
       "      <td>york</td>\n",
       "    </tr>\n",
       "    <tr>\n",
       "      <th>16</th>\n",
       "      <td>yes think</td>\n",
       "      <td>yes</td>\n",
       "      <td>youtu</td>\n",
       "      <td>yikes comedians</td>\n",
       "    </tr>\n",
       "    <tr>\n",
       "      <th>17</th>\n",
       "      <td>yes</td>\n",
       "      <td>yep ve</td>\n",
       "      <td>youre just</td>\n",
       "      <td>yikes</td>\n",
       "    </tr>\n",
       "    <tr>\n",
       "      <th>18</th>\n",
       "      <td>yeast yeti</td>\n",
       "      <td>yep saying</td>\n",
       "      <td>youre</td>\n",
       "      <td>yes yes</td>\n",
       "    </tr>\n",
       "    <tr>\n",
       "      <th>19</th>\n",
       "      <td>yeast</td>\n",
       "      <td>yep dislike</td>\n",
       "      <td>youngest amd</td>\n",
       "      <td>yes spike</td>\n",
       "    </tr>\n",
       "  </tbody>\n",
       "</table>\n",
       "</div>"
      ],
      "text/plain": [
       "                           Black            White            Hispanic  \\\n",
       "0                       yup race       zeusnostic           único que   \n",
       "1                            yup      zeus exists               único   \n",
       "2                       yt woman       zeus doesn  zootsuits remember   \n",
       "3                      yt ladies             zeus           zootsuits   \n",
       "4                             yt      zelensky tv          zombie dog   \n",
       "5                    youtube com         zelensky              zombie   \n",
       "6                        youtube         zach new     zero importance   \n",
       "7                   yooouuuu mom             zach                zero   \n",
       "8                       yooouuuu  younger brother        zendaya just   \n",
       "9   yojc2pohbzshr5pdbi downsized          younger             zendaya   \n",
       "10            yojc2pohbzshr5pdbi      yes stalled     zapata marielle   \n",
       "11                      yo flair         yes good              zapata   \n",
       "12                            yo       yes entire                 yup   \n",
       "13                 yiclki5eqdmus         yes elon      youtube videos   \n",
       "14                      yeti got       yes course             youtube   \n",
       "15                          yeti   yes absolutely   youtu _inqqjrqgw4   \n",
       "16                     yes think              yes               youtu   \n",
       "17                           yes           yep ve          youre just   \n",
       "18                    yeast yeti       yep saying               youre   \n",
       "19                         yeast      yep dislike        youngest amd   \n",
       "\n",
       "                                             AAPI  \n",
       "0   zej75z speed_being_racist_to_a_chinese_person  \n",
       "1                                          zej75z  \n",
       "2                                          yt ppl  \n",
       "3                                              yt  \n",
       "4                           youtubers interviewed  \n",
       "5                                       youtubers  \n",
       "6                                  youtube videos  \n",
       "7                                 youtube channel  \n",
       "8                                         youtube  \n",
       "9                                   young working  \n",
       "10                                   young people  \n",
       "11                                    young haven  \n",
       "12                                          young  \n",
       "13                                    yorker used  \n",
       "14                                         yorker  \n",
       "15                                           york  \n",
       "16                                yikes comedians  \n",
       "17                                          yikes  \n",
       "18                                        yes yes  \n",
       "19                                      yes spike  "
      ]
     },
     "execution_count": 249,
     "metadata": {},
     "output_type": "execute_result"
    }
   ],
   "source": [
    "top_words_2 = pd.DataFrame({'Black' : top_words_black_2, 'White' : top_words_white_2, 'Hispanic' : top_words_hisp_2, 'AAPI': top_words_aapi_2})\n",
    "top_words_2"
   ]
  },
  {
   "cell_type": "markdown",
   "id": "ce05c3c4-14e5-4e69-aa36-aa5f5d5f7ed1",
   "metadata": {},
   "source": [
    "The above table displays the 20 most popular monogram and bigrams from each subreddit. We see a similar trend with the previous table with some other interesting insights. "
   ]
  },
  {
   "cell_type": "markdown",
   "id": "3458f153-e5e8-4bbc-ba3e-aa667d0048ac",
   "metadata": {},
   "source": [
    "In the black community, there are terms such as \"yt woman\" and \"yt ladies\" that may be derogatory terms that are often used in this subreddit. Again, there are many words related to \"Youtube\" as well. "
   ]
  },
  {
   "cell_type": "markdown",
   "id": "fe6ec31d-d951-4dad-95fd-93a2d0a9908b",
   "metadata": {},
   "source": [
    "For the White subreddit, there are terms such as \"zelensky\" and \"zach\" and their bigrams that suggest that a lot of conversations are happening around these individuals, similar to the results from the previous table. There are many bigrams such as \"yes good\" and \"yes course\" that could be answers to a question. "
   ]
  },
  {
   "cell_type": "markdown",
   "id": "088b4585-2a35-482f-a3d5-daa5aeadcc7c",
   "metadata": {},
   "source": [
    "In the Hispanic subreddit, there are still a lot of Spanish words. There seems to be active discussions about zombies and the celebrity Zendaya. "
   ]
  },
  {
   "cell_type": "markdown",
   "id": "bc98fff1-b9cd-4a25-86ec-e2dff8e9551b",
   "metadata": {},
   "source": [
    "Lastly, in the AAPI subreddit, Youtube is a popular topic and also there are a lot of words related to young people, suggesting that the demographics of the AAPI subreddit may consist largely of younger people. "
   ]
  },
  {
   "cell_type": "markdown",
   "id": "8f1675e8-549f-45cc-a669-cd474a7b6de7",
   "metadata": {},
   "source": [
    "### Sentiment Analysis"
   ]
  },
  {
   "cell_type": "markdown",
   "id": "99fe4b7a-4adf-4894-9cdb-10ea51fcae20",
   "metadata": {},
   "source": [
    "Now, I will conduct a sentiment analysis on each of the subreddits to see how the overall sentiment differes in each subreddit. "
   ]
  },
  {
   "cell_type": "markdown",
   "id": "1cf2aab1-9256-41b1-99e0-0cb85bc0dcb3",
   "metadata": {},
   "source": [
    "#### Black Subreddit "
   ]
  },
  {
   "cell_type": "code",
   "execution_count": 172,
   "id": "0992277c-9b35-4c6b-90b8-c15a14275a19",
   "metadata": {},
   "outputs": [],
   "source": [
    "df_black_sent = df.loc[df['Ethnicity'] == 'black']\n",
    "\n",
    "sentiment = SentimentIntensityAnalyzer()\n",
    "\n",
    "pos = []\n",
    "neu = []\n",
    "neg = []\n",
    "\n",
    "for cmt in list(df_black_sent['Comment']):\n",
    "    sent_score = sentiment.polarity_scores(cmt)\n",
    "    neg.append(sent_score['neg'])\n",
    "    pos.append(sent_score['pos'])\n",
    "    neu.append(sent_score['neu'])\n",
    "\n",
    "def avg_ls(ls):\n",
    "    return sum(ls) / len(ls)\n",
    "\n",
    "ls_sent_b = []\n",
    "ls_sent_b.append(avg_ls(neg))\n",
    "ls_sent_b.append(avg_ls(neu))\n",
    "ls_sent_b.append(avg_ls(pos))"
   ]
  },
  {
   "cell_type": "markdown",
   "id": "94fcf3d7-f3e2-49c1-8cfc-0d433ddf3a4a",
   "metadata": {},
   "source": [
    "#### White Subreddit"
   ]
  },
  {
   "cell_type": "code",
   "execution_count": 173,
   "id": "723a72d2-f19b-4c99-b79c-f9249d3aa6f1",
   "metadata": {},
   "outputs": [],
   "source": [
    "df_white_sent = df.loc[df['Ethnicity'] == 'white']\n",
    "\n",
    "sentiment = SentimentIntensityAnalyzer()\n",
    "\n",
    "pos = []\n",
    "neu = []\n",
    "neg = []\n",
    "\n",
    "for cmt in list(df_white_sent['Comment']):\n",
    "    sent_score = sentiment.polarity_scores(cmt)\n",
    "    neg.append(sent_score['neg'])\n",
    "    pos.append(sent_score['pos'])\n",
    "    neu.append(sent_score['neu'])\n",
    "\n",
    "ls_sent_w = []\n",
    "ls_sent_w.append(avg_ls(neg))\n",
    "ls_sent_w.append(avg_ls(neu))\n",
    "ls_sent_w.append(avg_ls(pos))"
   ]
  },
  {
   "cell_type": "markdown",
   "id": "0f03b799-d551-479e-9903-c33ed8543684",
   "metadata": {},
   "source": [
    "#### Hispanic Subreddit"
   ]
  },
  {
   "cell_type": "code",
   "execution_count": 181,
   "id": "28f049cc-f2eb-4075-b5cb-b14701bddeed",
   "metadata": {},
   "outputs": [],
   "source": [
    "df_hisp_sent = df.loc[df['Ethnicity'] == 'hispanic']\n",
    "\n",
    "sentiment = SentimentIntensityAnalyzer()\n",
    "\n",
    "pos = []\n",
    "neu = []\n",
    "neg = []\n",
    "\n",
    "for cmt in list(df_hisp_sent['Comment']):\n",
    "    sent_score = sentiment.polarity_scores(cmt)\n",
    "    neg.append(sent_score['neg'])\n",
    "    pos.append(sent_score['pos'])\n",
    "    neu.append(sent_score['neu'])\n",
    "\n",
    "ls_sent_h = []\n",
    "ls_sent_h.append(avg_ls(neg))\n",
    "ls_sent_h.append(avg_ls(neu))\n",
    "ls_sent_h.append(avg_ls(pos))"
   ]
  },
  {
   "cell_type": "markdown",
   "id": "240bcd57-ddfd-4fa8-93bd-86f4de566022",
   "metadata": {},
   "source": [
    "#### AAPI Subreddit"
   ]
  },
  {
   "cell_type": "code",
   "execution_count": 182,
   "id": "6d0eca28-7273-4406-8e75-d01ff860a069",
   "metadata": {},
   "outputs": [],
   "source": [
    "df_aapi_sent = df.loc[df['Ethnicity'] == 'aapi']\n",
    "\n",
    "sentiment = SentimentIntensityAnalyzer()\n",
    "\n",
    "pos = []\n",
    "neu = []\n",
    "neg = []\n",
    "\n",
    "for cmt in list(df_aapi_sent['Comment']):\n",
    "    sent_score = sentiment.polarity_scores(cmt)\n",
    "    neg.append(sent_score['neg'])\n",
    "    pos.append(sent_score['pos'])\n",
    "    neu.append(sent_score['neu'])\n",
    "\n",
    "ls_sent_a = []\n",
    "ls_sent_a.append(avg_ls(neg))\n",
    "ls_sent_a.append(avg_ls(neu))\n",
    "ls_sent_a.append(avg_ls(pos))"
   ]
  },
  {
   "cell_type": "code",
   "execution_count": 183,
   "id": "a042810e-6b0a-471e-806c-94f052648326",
   "metadata": {},
   "outputs": [
    {
     "data": {
      "text/html": [
       "<div>\n",
       "<style scoped>\n",
       "    .dataframe tbody tr th:only-of-type {\n",
       "        vertical-align: middle;\n",
       "    }\n",
       "\n",
       "    .dataframe tbody tr th {\n",
       "        vertical-align: top;\n",
       "    }\n",
       "\n",
       "    .dataframe thead th {\n",
       "        text-align: right;\n",
       "    }\n",
       "</style>\n",
       "<table border=\"1\" class=\"dataframe\">\n",
       "  <thead>\n",
       "    <tr style=\"text-align: right;\">\n",
       "      <th></th>\n",
       "      <th>Black</th>\n",
       "      <th>White</th>\n",
       "      <th>Hispanic</th>\n",
       "      <th>AAPI</th>\n",
       "    </tr>\n",
       "  </thead>\n",
       "  <tbody>\n",
       "    <tr>\n",
       "      <th>Negative</th>\n",
       "      <td>0.080806</td>\n",
       "      <td>0.10712</td>\n",
       "      <td>0.059520</td>\n",
       "      <td>0.086751</td>\n",
       "    </tr>\n",
       "    <tr>\n",
       "      <th>Neutral</th>\n",
       "      <td>0.805419</td>\n",
       "      <td>0.78549</td>\n",
       "      <td>0.841706</td>\n",
       "      <td>0.764498</td>\n",
       "    </tr>\n",
       "    <tr>\n",
       "      <th>Positive</th>\n",
       "      <td>0.098089</td>\n",
       "      <td>0.10739</td>\n",
       "      <td>0.094730</td>\n",
       "      <td>0.148751</td>\n",
       "    </tr>\n",
       "  </tbody>\n",
       "</table>\n",
       "</div>"
      ],
      "text/plain": [
       "             Black    White  Hispanic      AAPI\n",
       "Negative  0.080806  0.10712  0.059520  0.086751\n",
       "Neutral   0.805419  0.78549  0.841706  0.764498\n",
       "Positive  0.098089  0.10739  0.094730  0.148751"
      ]
     },
     "execution_count": 183,
     "metadata": {},
     "output_type": "execute_result"
    }
   ],
   "source": [
    "df_sentiment = pd.DataFrame({'Black': ls_sent_b, 'White': ls_sent_w, 'Hispanic': ls_sent_h, 'AAPI': ls_sent_a})\n",
    "df_sentiment.index = ['Negative', 'Neutral', 'Positive']\n",
    "df_sentiment"
   ]
  },
  {
   "cell_type": "code",
   "execution_count": 197,
   "id": "67111fe5-f85a-4811-8243-314b5cf13e09",
   "metadata": {},
   "outputs": [
    {
     "data": {
      "image/png": "[encoded data removed]",
      "text/plain": [
       "<Figure size 1440x720 with 4 Axes>"
      ]
     },
     "metadata": {
      "needs_background": "light"
     },
     "output_type": "display_data"
    }
   ],
   "source": [
    "fig, ax = plt.subplots(2, 2, figsize = (20, 10))\n",
    "sns.barplot(data=df_sentiment, x=df_sentiment['Black'], y=df_sentiment.index, ax= ax[0,0])\n",
    "ax[0, 0].set_title('Black Subreddit')\n",
    "sns.barplot(data=df_sentiment, x=df_sentiment['White'], y=df_sentiment.index, ax= ax[0,1])\n",
    "ax[0, 1].set_title('White Subreddit')\n",
    "sns.barplot(data=df_sentiment, x=df_sentiment['Hispanic'], y=df_sentiment.index, ax= ax[1,0])\n",
    "ax[1, 0].set_title('Hispanic Subreddit')\n",
    "sns.barplot(data=df_sentiment, x=df_sentiment['AAPI'], y=df_sentiment.index, ax= ax[1, 1])\n",
    "ax[1, 1].set_title('AAPI Subreddit');"
   ]
  },
  {
   "cell_type": "markdown",
   "id": "981cde9a-19d3-42f8-8f0e-3f393a937d7c",
   "metadata": {},
   "source": [
    "The table and the graphs above shows the average sentiment score with the Valence Aware Dictionary and Sentiment Reasoner for each subreddit. In all of the four subreddits, neutral has the highest score (longest bar). There are some differences in the negative and positive scores as well. "
   ]
  },
  {
   "cell_type": "markdown",
   "id": "0d4618fa-4f17-4f49-a1e5-3937546a820a",
   "metadata": {},
   "source": [
    "For the negative score, the White subreddit was the highest, followed by AAPI, Black and Hispanic subreddit. The hispanic subreddit has nearly half the negative sentiment score of that of White subreddit. The higher negative sentiment in the White subreddit is surprising, because the previous section showed that there are a lot of words such as \"yes course\" that show agreement. However, there might be negative sentiments coming from the conversations that continue after these words. In the Hispanic subreddit, there are a lot of people who identify as the same ethnicity and form a sense of tight community, as shown through the Spanish words in the previous sections, which contributes to a more positive environment. "
   ]
  },
  {
   "cell_type": "markdown",
   "id": "c9d29a62-1ca1-482f-88ac-2af5f4ff4946",
   "metadata": {},
   "source": [
    "The positive score is highest among the AAPI subreddit, followed by the White, Hispanic and Black subreddit. The difference in positive scores between the subreddits is less than that of the negative scores. The AAPI subreddit might have the highest positive score, because the demographic likely consists of younger people and they are more aware of making a friendly online environment. As the previous sections show, there are some derogatory terms that are freqently occuring which may have lowered the positive score. "
   ]
  },
  {
   "cell_type": "markdown",
   "id": "cd5fd057-4e6d-4d66-9144-4ba6dfceded7",
   "metadata": {},
   "source": [
    "### Binary Classifications "
   ]
  },
  {
   "cell_type": "markdown",
   "id": "92a5fd08-9ad6-4321-82a0-6bbcba1e54fa",
   "metadata": {},
   "source": [
    "Now I will conduct binary classifications. I will classify Black vs. White subreddits, because these two races are often mentioned together in the discussion of racism. I will also classify Hispanic vs. AAPI subreddits, because these two races are largely immigrant populations in the United States, so their differences and similarities might show interesting insights. "
   ]
  },
  {
   "cell_type": "markdown",
   "id": "8b8500ab-3a37-46c5-b1e1-57b85a3dd7dc",
   "metadata": {},
   "source": [
    "#### Black vs. White Subreddit"
   ]
  },
  {
   "cell_type": "code",
   "execution_count": 341,
   "id": "08c55726-8a97-475c-a589-9481ea69480e",
   "metadata": {},
   "outputs": [],
   "source": [
    "df_black = df.loc[df['Ethnicity'] == 'black']\n",
    "df_white = df.loc[df['Ethnicity'] == 'white']"
   ]
  },
  {
   "cell_type": "code",
   "execution_count": 342,
   "id": "26f8ed27-fce9-4100-9f02-a62bc4674932",
   "metadata": {},
   "outputs": [],
   "source": [
    "# Each list contains the comments for each respective race. \n",
    "ls_black = list(df_black['Comment'])\n",
    "ls_white = list(df_white['Comment'])"
   ]
  },
  {
   "cell_type": "code",
   "execution_count": 343,
   "id": "1898543a-8452-4d29-a66d-d86ebd885f1d",
   "metadata": {},
   "outputs": [],
   "source": [
    "ls_bw = []\n",
    "for comments in ls_black:\n",
    "    ls_bw.append(comments)\n",
    "for commentss in ls_white:\n",
    "    ls_bw.append(commentss)\n",
    "    \n",
    "all_dic= {}\n",
    "\n",
    "for x in ls_bw:\n",
    "    if x in ls_black:\n",
    "        eth = 'black'\n",
    "    else: \n",
    "        eth = 'white'\n",
    "    all_dic[x] = eth\n",
    "\n",
    "# df_bw contains the comments from the Black and White subreddits. \n",
    "df_bw = pd.DataFrame({'Comment': list(all_dic.keys()), 'Ethnicity': list(all_dic.values())})\n",
    "\n",
    "# Make binary variable (1 means black subreddit, 0 means white subreddit\n",
    "df_bw['binary'] = np.where(df_bw['Ethnicity'] == 'black', 1, 0)\n",
    "\n",
    "X = df_bw['Comment']\n",
    "y = df_bw['binary']\n",
    "\n",
    "# Train test split\n",
    "X_train, X_test, y_train, y_test = train_test_split(X, y, stratify = y, random_state=22)"
   ]
  },
  {
   "cell_type": "code",
   "execution_count": 344,
   "id": "80c0f54d-8b7a-44ca-9f15-acae49d282fc",
   "metadata": {},
   "outputs": [
    {
     "data": {
      "text/plain": [
       "0    0.582524\n",
       "1    0.417476\n",
       "Name: binary, dtype: float64"
      ]
     },
     "execution_count": 344,
     "metadata": {},
     "output_type": "execute_result"
    }
   ],
   "source": [
    "# Baseline\n",
    "y_train.value_counts(normalize= True)"
   ]
  },
  {
   "cell_type": "markdown",
   "id": "0a6103ba-8ff6-4eb0-a0c3-cb4464841115",
   "metadata": {},
   "source": [
    "The baseline accuracy here is 0.583"
   ]
  },
  {
   "cell_type": "code",
   "execution_count": 345,
   "id": "610b9469-98e6-4157-bcca-d155de4816fd",
   "metadata": {},
   "outputs": [
    {
     "name": "stdout",
     "output_type": "stream",
     "text": [
      "Multinomial NB\n",
      "Best score:  0.6764145954521417\n",
      "Best parameters:  {'vectorizer__max_features': 5000, 'vectorizer__min_df': 1, 'vectorizer__ngram_range': (1, 2)}\n",
      "Score X_train:  0.9741100323624595\n",
      "Score X_test:  0.6826923076923077\n"
     ]
    }
   ],
   "source": [
    "pipe = Pipeline([('vectorizer', CountVectorizer(stop_words='english')), ('model', MultinomialNB())])\n",
    "\n",
    "# GridSearch\n",
    "params = {'vectorizer__min_df': [1, 2, 3, 4],\n",
    "          'vectorizer__ngram_range': [(1, 1), (1, 2)], \n",
    "          'vectorizer__max_features': [2000, 3000, 4000, 5000]}\n",
    "\n",
    "grid = GridSearchCV(pipe, param_grid = params, cv=5)\n",
    "grid.fit(X_train, y_train)\n",
    "\n",
    "print(\"Multinomial NB\")\n",
    "print(\"Best score: \", grid.best_score_)\n",
    "print(\"Best parameters: \", grid.best_params_)\n",
    "print(\"Score X_train: \", grid.score(X_train, y_train))\n",
    "print(\"Score X_test: \", grid.score(X_test, y_test))"
   ]
  },
  {
   "cell_type": "markdown",
   "id": "1e54a032-7791-41e4-9f3b-3889168a862e",
   "metadata": {},
   "source": [
    "We see here that the training data score is quite high and much higher than the baseline score with 0.974. However the difference with the testing data score is quite high as well, as the test data score is 0.683. So there seems to be a problem of overfitting. Nonetheless, the scores are better than the baseline accuracy. "
   ]
  },
  {
   "cell_type": "markdown",
   "id": "5ceb7502-2d35-4f01-a7f3-16c4346ea27c",
   "metadata": {},
   "source": [
    "To see if a Logistic Regression model is better, we will conduct a Logistic Regression analysis as well. "
   ]
  },
  {
   "cell_type": "code",
   "execution_count": 346,
   "id": "64f237e9-95fb-4140-b576-05ee56dfd758",
   "metadata": {},
   "outputs": [
    {
     "name": "stdout",
     "output_type": "stream",
     "text": [
      "Logistic Regression\n",
      "Best score:  0.6894235854045478\n",
      "Best parameters:  {'vectorizer__max_features': 2000, 'vectorizer__min_df': 1, 'vectorizer__ngram_range': (1, 1)}\n",
      "Score X_train:  0.9902912621359223\n",
      "Score X_test:  0.625\n"
     ]
    }
   ],
   "source": [
    "pipe2 = Pipeline([('vectorizer', CountVectorizer(stop_words = 'english')),\n",
    "                 ('model', LogisticRegression())])\n",
    "\n",
    "params2 = {'vectorizer__min_df': [1, 2, 3, 4],\n",
    "          'vectorizer__ngram_range': [(1, 1), (1, 2)],\n",
    "           'vectorizer__max_features': [2000, 3000, 4000, 5000]}\n",
    "\n",
    "grid2 = GridSearchCV(pipe2, param_grid = params2, cv=5)\n",
    "grid2.fit(X_train, y_train)\n",
    "\n",
    "print(\"Logistic Regression\")\n",
    "print(\"Best score: \", grid2.best_score_)\n",
    "print(\"Best parameters: \", grid2.best_params_)\n",
    "print(\"Score X_train: \", grid2.score(X_train, y_train))\n",
    "print(\"Score X_test: \", grid2.score(X_test, y_test))"
   ]
  },
  {
   "cell_type": "markdown",
   "id": "22fb2cbe-1201-434b-b0c7-ead1412a836f",
   "metadata": {},
   "source": [
    "The results of the logistic regression model shows that the X_train data score is slightly higher than that of the Naive Bayes model. However, the X_test data score is even low, with 0.625. Therefore, the problem of overfitting is worse with Logistic Regression. Therefore, we will just use the Bayes model. "
   ]
  },
  {
   "cell_type": "markdown",
   "id": "0a6f95a5-c667-47d9-bff1-d6db8d1baa0d",
   "metadata": {},
   "source": [
    "Using the Naive Bayes model, I will draw a Confusion Matrix. "
   ]
  },
  {
   "cell_type": "code",
   "execution_count": 348,
   "id": "8ef9ebd2-b9ad-4e00-81c2-dbf51e830b43",
   "metadata": {},
   "outputs": [
    {
     "data": {
      "image/png": "[encoded data removed]",
      "text/plain": [
       "<Figure size 432x288 with 2 Axes>"
      ]
     },
     "metadata": {
      "needs_background": "light"
     },
     "output_type": "display_data"
    }
   ],
   "source": [
    "yhat = grid.predict(X_test)\n",
    "confusion_matrix(y_test, yhat)\n",
    "ConfusionMatrixDisplay.from_predictions(y_test, yhat);"
   ]
  },
  {
   "cell_type": "markdown",
   "id": "288f2c04-4dd4-4991-9d6d-f85b253d0237",
   "metadata": {},
   "source": [
    "This Confusion Matrix shows that there were a lot of errors in which the model predicted that a comment was from White subreddit, but it was in fact from Black subreddit (26 instances). Meanwhile, there were only 7 instances in which the model predicted that a comment was from Black subreddit and it was in fact from White subreddit. This shows that there might be a lot of similarities between the White and Black subreddit comments. "
   ]
  },
  {
   "cell_type": "code",
   "execution_count": 321,
   "id": "29c2e3e6-861d-4d87-97fe-b6bede408edf",
   "metadata": {},
   "outputs": [
    {
     "data": {
      "text/html": [
       "<div>\n",
       "<style scoped>\n",
       "    .dataframe tbody tr th:only-of-type {\n",
       "        vertical-align: middle;\n",
       "    }\n",
       "\n",
       "    .dataframe tbody tr th {\n",
       "        vertical-align: top;\n",
       "    }\n",
       "\n",
       "    .dataframe thead th {\n",
       "        text-align: right;\n",
       "    }\n",
       "</style>\n",
       "<table border=\"1\" class=\"dataframe\">\n",
       "  <thead>\n",
       "    <tr style=\"text-align: right;\">\n",
       "      <th></th>\n",
       "      <th>Coefficient</th>\n",
       "      <th>Words</th>\n",
       "    </tr>\n",
       "  </thead>\n",
       "  <tbody>\n",
       "    <tr>\n",
       "      <th>2484</th>\n",
       "      <td>[-8.862058677395472]</td>\n",
       "      <td>limb</td>\n",
       "    </tr>\n",
       "    <tr>\n",
       "      <th>2964</th>\n",
       "      <td>[-8.862058677395472]</td>\n",
       "      <td>oil giving</td>\n",
       "    </tr>\n",
       "    <tr>\n",
       "      <th>2965</th>\n",
       "      <td>[-8.862058677395472]</td>\n",
       "      <td>oil home</td>\n",
       "    </tr>\n",
       "    <tr>\n",
       "      <th>2968</th>\n",
       "      <td>[-8.862058677395472]</td>\n",
       "      <td>ok</td>\n",
       "    </tr>\n",
       "    <tr>\n",
       "      <th>2969</th>\n",
       "      <td>[-8.862058677395472]</td>\n",
       "      <td>ok abortion</td>\n",
       "    </tr>\n",
       "    <tr>\n",
       "      <th>2970</th>\n",
       "      <td>[-8.862058677395472]</td>\n",
       "      <td>ok elons</td>\n",
       "    </tr>\n",
       "    <tr>\n",
       "      <th>2971</th>\n",
       "      <td>[-8.862058677395472]</td>\n",
       "      <td>ok lol</td>\n",
       "    </tr>\n",
       "    <tr>\n",
       "      <th>2972</th>\n",
       "      <td>[-8.862058677395472]</td>\n",
       "      <td>ok negotiate</td>\n",
       "    </tr>\n",
       "    <tr>\n",
       "      <th>2973</th>\n",
       "      <td>[-8.862058677395472]</td>\n",
       "      <td>ok russia</td>\n",
       "    </tr>\n",
       "    <tr>\n",
       "      <th>2976</th>\n",
       "      <td>[-8.862058677395472]</td>\n",
       "      <td>okay fuck</td>\n",
       "    </tr>\n",
       "    <tr>\n",
       "      <th>2978</th>\n",
       "      <td>[-8.862058677395472]</td>\n",
       "      <td>old learned</td>\n",
       "    </tr>\n",
       "    <tr>\n",
       "      <th>2980</th>\n",
       "      <td>[-8.862058677395472]</td>\n",
       "      <td>oligarchs</td>\n",
       "    </tr>\n",
       "    <tr>\n",
       "      <th>2981</th>\n",
       "      <td>[-8.862058677395472]</td>\n",
       "      <td>oligarchs fuss</td>\n",
       "    </tr>\n",
       "    <tr>\n",
       "      <th>2959</th>\n",
       "      <td>[-8.862058677395472]</td>\n",
       "      <td>offline good</td>\n",
       "    </tr>\n",
       "    <tr>\n",
       "      <th>2982</th>\n",
       "      <td>[-8.862058677395472]</td>\n",
       "      <td>oliver</td>\n",
       "    </tr>\n",
       "    <tr>\n",
       "      <th>2984</th>\n",
       "      <td>[-8.862058677395472]</td>\n",
       "      <td>omg</td>\n",
       "    </tr>\n",
       "    <tr>\n",
       "      <th>2985</th>\n",
       "      <td>[-8.862058677395472]</td>\n",
       "      <td>omg right</td>\n",
       "    </tr>\n",
       "    <tr>\n",
       "      <th>2986</th>\n",
       "      <td>[-8.862058677395472]</td>\n",
       "      <td>ones</td>\n",
       "    </tr>\n",
       "    <tr>\n",
       "      <th>2987</th>\n",
       "      <td>[-8.862058677395472]</td>\n",
       "      <td>ones know</td>\n",
       "    </tr>\n",
       "    <tr>\n",
       "      <th>2993</th>\n",
       "      <td>[-8.862058677395472]</td>\n",
       "      <td>op</td>\n",
       "    </tr>\n",
       "  </tbody>\n",
       "</table>\n",
       "</div>"
      ],
      "text/plain": [
       "               Coefficient           Words\n",
       "2484  [-8.862058677395472]            limb\n",
       "2964  [-8.862058677395472]      oil giving\n",
       "2965  [-8.862058677395472]        oil home\n",
       "2968  [-8.862058677395472]              ok\n",
       "2969  [-8.862058677395472]     ok abortion\n",
       "2970  [-8.862058677395472]        ok elons\n",
       "2971  [-8.862058677395472]          ok lol\n",
       "2972  [-8.862058677395472]    ok negotiate\n",
       "2973  [-8.862058677395472]       ok russia\n",
       "2976  [-8.862058677395472]       okay fuck\n",
       "2978  [-8.862058677395472]     old learned\n",
       "2980  [-8.862058677395472]       oligarchs\n",
       "2981  [-8.862058677395472]  oligarchs fuss\n",
       "2959  [-8.862058677395472]    offline good\n",
       "2982  [-8.862058677395472]          oliver\n",
       "2984  [-8.862058677395472]             omg\n",
       "2985  [-8.862058677395472]       omg right\n",
       "2986  [-8.862058677395472]            ones\n",
       "2987  [-8.862058677395472]       ones know\n",
       "2993  [-8.862058677395472]              op"
      ]
     },
     "execution_count": 321,
     "metadata": {},
     "output_type": "execute_result"
    }
   ],
   "source": [
    "import warnings\n",
    "warnings.filterwarnings('ignore')\n",
    "\n",
    "coefs = list(grid.best_estimator_.named_steps['model'].coef_.T)\n",
    "tokens = list(grid.best_estimator_.named_steps['vectorizer'].get_feature_names_out())\n",
    "impt_words = pd.DataFrame({'Coefficient': coefs, 'Words': tokens}).sort_values('Coefficient')\n",
    "impt_words[:20]"
   ]
  },
  {
   "cell_type": "markdown",
   "id": "fd0f5262-73ca-44da-9706-d4f2f15afc4d",
   "metadata": {},
   "source": [
    "This dataframe shows the 20 words that are most influential in classifying a comment as from the White subreddit. We see some slang and derogatory terms here."
   ]
  },
  {
   "cell_type": "code",
   "execution_count": 322,
   "id": "a2692437-fa3a-4696-adc5-33b39711ef47",
   "metadata": {},
   "outputs": [
    {
     "data": {
      "text/html": [
       "<div>\n",
       "<style scoped>\n",
       "    .dataframe tbody tr th:only-of-type {\n",
       "        vertical-align: middle;\n",
       "    }\n",
       "\n",
       "    .dataframe tbody tr th {\n",
       "        vertical-align: top;\n",
       "    }\n",
       "\n",
       "    .dataframe thead th {\n",
       "        text-align: right;\n",
       "    }\n",
       "</style>\n",
       "<table border=\"1\" class=\"dataframe\">\n",
       "  <thead>\n",
       "    <tr style=\"text-align: right;\">\n",
       "      <th></th>\n",
       "      <th>Coefficient</th>\n",
       "      <th>Words</th>\n",
       "    </tr>\n",
       "  </thead>\n",
       "  <tbody>\n",
       "    <tr>\n",
       "      <th>2054</th>\n",
       "      <td>[-7.252620764961372]</td>\n",
       "      <td>humans</td>\n",
       "    </tr>\n",
       "    <tr>\n",
       "      <th>4843</th>\n",
       "      <td>[-7.070299208167418]</td>\n",
       "      <td>work</td>\n",
       "    </tr>\n",
       "    <tr>\n",
       "      <th>4393</th>\n",
       "      <td>[-7.070299208167418]</td>\n",
       "      <td>time</td>\n",
       "    </tr>\n",
       "    <tr>\n",
       "      <th>3145</th>\n",
       "      <td>[-7.070299208167418]</td>\n",
       "      <td>person</td>\n",
       "    </tr>\n",
       "    <tr>\n",
       "      <th>4922</th>\n",
       "      <td>[-7.070299208167418]</td>\n",
       "      <td>yeah</td>\n",
       "    </tr>\n",
       "    <tr>\n",
       "      <th>3470</th>\n",
       "      <td>[-7.070299208167418]</td>\n",
       "      <td>really</td>\n",
       "    </tr>\n",
       "    <tr>\n",
       "      <th>1763</th>\n",
       "      <td>[-6.916148528340159]</td>\n",
       "      <td>good</td>\n",
       "    </tr>\n",
       "    <tr>\n",
       "      <th>3878</th>\n",
       "      <td>[-6.916148528340159]</td>\n",
       "      <td>shit</td>\n",
       "    </tr>\n",
       "    <tr>\n",
       "      <th>463</th>\n",
       "      <td>[-6.916148528340159]</td>\n",
       "      <td>black</td>\n",
       "    </tr>\n",
       "    <tr>\n",
       "      <th>329</th>\n",
       "      <td>[-6.916148528340159]</td>\n",
       "      <td>bad</td>\n",
       "    </tr>\n",
       "    <tr>\n",
       "      <th>3414</th>\n",
       "      <td>[-6.916148528340159]</td>\n",
       "      <td>racist</td>\n",
       "    </tr>\n",
       "    <tr>\n",
       "      <th>1787</th>\n",
       "      <td>[-6.782617135715636]</td>\n",
       "      <td>got</td>\n",
       "    </tr>\n",
       "    <tr>\n",
       "      <th>2329</th>\n",
       "      <td>[-6.782617135715636]</td>\n",
       "      <td>know</td>\n",
       "    </tr>\n",
       "    <tr>\n",
       "      <th>1711</th>\n",
       "      <td>[-6.664834100059252]</td>\n",
       "      <td>gif giphy</td>\n",
       "    </tr>\n",
       "    <tr>\n",
       "      <th>1712</th>\n",
       "      <td>[-6.664834100059252]</td>\n",
       "      <td>giphy</td>\n",
       "    </tr>\n",
       "    <tr>\n",
       "      <th>1710</th>\n",
       "      <td>[-6.664834100059252]</td>\n",
       "      <td>gif</td>\n",
       "    </tr>\n",
       "    <tr>\n",
       "      <th>2448</th>\n",
       "      <td>[-6.3771520276074725]</td>\n",
       "      <td>like</td>\n",
       "    </tr>\n",
       "    <tr>\n",
       "      <th>2257</th>\n",
       "      <td>[-6.297109319933936]</td>\n",
       "      <td>just</td>\n",
       "    </tr>\n",
       "    <tr>\n",
       "      <th>1237</th>\n",
       "      <td>[-6.2230013477802135]</td>\n",
       "      <td>don</td>\n",
       "    </tr>\n",
       "    <tr>\n",
       "      <th>3099</th>\n",
       "      <td>[-6.089469955155691]</td>\n",
       "      <td>people</td>\n",
       "    </tr>\n",
       "  </tbody>\n",
       "</table>\n",
       "</div>"
      ],
      "text/plain": [
       "                Coefficient      Words\n",
       "2054   [-7.252620764961372]     humans\n",
       "4843   [-7.070299208167418]       work\n",
       "4393   [-7.070299208167418]       time\n",
       "3145   [-7.070299208167418]     person\n",
       "4922   [-7.070299208167418]       yeah\n",
       "3470   [-7.070299208167418]     really\n",
       "1763   [-6.916148528340159]       good\n",
       "3878   [-6.916148528340159]       shit\n",
       "463    [-6.916148528340159]      black\n",
       "329    [-6.916148528340159]        bad\n",
       "3414   [-6.916148528340159]     racist\n",
       "1787   [-6.782617135715636]        got\n",
       "2329   [-6.782617135715636]       know\n",
       "1711   [-6.664834100059252]  gif giphy\n",
       "1712   [-6.664834100059252]      giphy\n",
       "1710   [-6.664834100059252]        gif\n",
       "2448  [-6.3771520276074725]       like\n",
       "2257   [-6.297109319933936]       just\n",
       "1237  [-6.2230013477802135]        don\n",
       "3099   [-6.089469955155691]     people"
      ]
     },
     "execution_count": 322,
     "metadata": {},
     "output_type": "execute_result"
    }
   ],
   "source": [
    "impt_words[-20:]"
   ]
  },
  {
   "cell_type": "markdown",
   "id": "580157ec-235f-4bcd-bb99-a2d7487bbc79",
   "metadata": {},
   "source": [
    "Meanwhile this dataframe shows the 20 words that are most influential in classifying a comment as from the Black subreddit. We can see in this table that there are a lot of derogatory terms in the White subreddit as well, which makes classification difficult. Moreover, the Black subreddit includes a lot of words that does not add a significant new meaning, such as \"really\", \"yeah\", \"like\" and \"just\" so it might be harder to see if a comment is from the Black subreddit or not. It is interesting that unlike the White subreddit, words representing race such as \"black\" and \"racist\" are influential here. Hence, it might have been easier to identify a comment as black, through the inclusion of such words, than identifying a comment as White. "
   ]
  },
  {
   "cell_type": "markdown",
   "id": "8e390878-ce38-4fdc-8872-96e122de68ea",
   "metadata": {},
   "source": [
    "#### AAPI vs. Hispanic Subreddit"
   ]
  },
  {
   "cell_type": "code",
   "execution_count": 349,
   "id": "1c078080-5898-4c08-a5db-d222ea6884b0",
   "metadata": {},
   "outputs": [],
   "source": [
    "df_aapi = df.loc[df['Ethnicity'] == 'aapi']\n",
    "df_hisp = df.loc[df['Ethnicity'] == 'hispanic']"
   ]
  },
  {
   "cell_type": "code",
   "execution_count": 350,
   "id": "aceceda7-c122-4773-ba16-31482d5b56e7",
   "metadata": {},
   "outputs": [],
   "source": [
    "# Each list contains the comments for each respective race. \n",
    "ls_aapi = list(df_aapi['Comment'])\n",
    "ls_hisp = list(df_hisp['Comment'])"
   ]
  },
  {
   "cell_type": "code",
   "execution_count": 351,
   "id": "4f5d8f07-dbfd-4d8c-97a8-d818326889d2",
   "metadata": {},
   "outputs": [],
   "source": [
    "ls_ah = []\n",
    "for comments in ls_aapi:\n",
    "    ls_ah.append(comments)\n",
    "for commentss in ls_hisp:\n",
    "    ls_ah.append(commentss)\n",
    "    \n",
    "all_ah= {}\n",
    "\n",
    "for x in ls_ah:\n",
    "    if x in ls_aapi:\n",
    "        eth = 'aapi'\n",
    "    else: \n",
    "        eth = 'hisp'\n",
    "    all_ah[x] = eth\n",
    "\n",
    "# df_ah contains the comments from the AAPI and Hispanic subreddits. \n",
    "df_ah = pd.DataFrame({'Comment': list(all_ah.keys()), 'Ethnicity': list(all_ah.values())})\n",
    "\n",
    "# Make binary variable (1 means AAPI subreddit, 0 means Hispanic subreddit)\n",
    "df_ah['binary'] = np.where(df_ah['Ethnicity'] == 'aapi', 1, 0)\n",
    "\n",
    "X = df_ah['Comment']\n",
    "y = df_ah['binary']\n",
    "\n",
    "# Train test split\n",
    "X_train, X_test, y_train, y_test = train_test_split(X, y, stratify = y, random_state=22)"
   ]
  },
  {
   "cell_type": "code",
   "execution_count": 352,
   "id": "f8a04215-882f-49ae-8e5c-4c5c7e025f6a",
   "metadata": {},
   "outputs": [
    {
     "data": {
      "text/plain": [
       "0    0.538235\n",
       "1    0.461765\n",
       "Name: binary, dtype: float64"
      ]
     },
     "execution_count": 352,
     "metadata": {},
     "output_type": "execute_result"
    }
   ],
   "source": [
    "# Baseline\n",
    "y_train.value_counts(normalize= True)"
   ]
  },
  {
   "cell_type": "markdown",
   "id": "65855240-467c-4895-844c-5e5b301d9b1b",
   "metadata": {},
   "source": [
    "Here, the baseline accuracy is 0.538"
   ]
  },
  {
   "cell_type": "code",
   "execution_count": 353,
   "id": "a722b3de-aa30-48b0-ae04-f186a2c97fc9",
   "metadata": {},
   "outputs": [
    {
     "name": "stdout",
     "output_type": "stream",
     "text": [
      "Best score:  0.8470588235294118\n",
      "Best parameters:  {'vectorizer__max_features': 2000, 'vectorizer__min_df': 1, 'vectorizer__ngram_range': (1, 1)}\n",
      "Score X_train:  0.961764705882353\n",
      "Score X_test:  0.8070175438596491\n"
     ]
    }
   ],
   "source": [
    "pipe = Pipeline([('vectorizer', CountVectorizer(stop_words='english')), ('model', MultinomialNB())])\n",
    "\n",
    "# GridSearch\n",
    "params = {'vectorizer__min_df': [1, 2, 3, 4],\n",
    "          'vectorizer__ngram_range': [(1, 1), (1, 2)], \n",
    "          'vectorizer__max_features': [2000, 3000, 4000, 5000]}\n",
    "\n",
    "grid = GridSearchCV(pipe, param_grid = params, cv=5)\n",
    "grid.fit(X_train, y_train)\n",
    "\n",
    "print(\"Best score: \", grid.best_score_)\n",
    "print(\"Best parameters: \", grid.best_params_)\n",
    "print(\"Score X_train: \", grid.score(X_train, y_train))\n",
    "print(\"Score X_test: \", grid.score(X_test, y_test))"
   ]
  },
  {
   "cell_type": "markdown",
   "id": "073aa5f0-8e12-4ecb-9223-347c19117df9",
   "metadata": {},
   "source": [
    "Here, both the training data score and the testing data score is above the baseline accuracy, the model is helpful. The problem of overfitting seems to be less than the previous classification model between White and Black subreddits. "
   ]
  },
  {
   "cell_type": "markdown",
   "id": "9ac7a1e9-b3ef-4c6a-a15e-405b159599bf",
   "metadata": {},
   "source": [
    "Again, I will conduct a Logistic Regression model as well. "
   ]
  },
  {
   "cell_type": "code",
   "execution_count": 354,
   "id": "ab845c77-5d8d-4f4d-b728-a0a927f71570",
   "metadata": {},
   "outputs": [
    {
     "name": "stdout",
     "output_type": "stream",
     "text": [
      "Logistic Regression\n",
      "Best score:  0.8382352941176471\n",
      "Best parameters:  {'vectorizer__max_features': 2000, 'vectorizer__min_df': 2, 'vectorizer__ngram_range': (1, 2)}\n",
      "Score X_train:  0.9823529411764705\n",
      "Score X_test:  0.7719298245614035\n"
     ]
    }
   ],
   "source": [
    "pipe2 = Pipeline([('vectorizer', CountVectorizer(stop_words = 'english')),\n",
    "                 ('model', LogisticRegression())])\n",
    "\n",
    "params2 = {'vectorizer__min_df': [1, 2, 3, 4],\n",
    "          'vectorizer__ngram_range': [(1, 1), (1, 2)],\n",
    "           'vectorizer__max_features': [2000, 3000, 4000, 5000]}\n",
    "\n",
    "grid2 = GridSearchCV(pipe2, param_grid = params2, cv=5)\n",
    "grid2.fit(X_train, y_train)\n",
    "\n",
    "print(\"Logistic Regression\")\n",
    "print(\"Best score: \", grid2.best_score_)\n",
    "print(\"Best parameters: \", grid2.best_params_)\n",
    "print(\"Score X_train: \", grid2.score(X_train, y_train))\n",
    "print(\"Score X_test: \", grid2.score(X_test, y_test))"
   ]
  },
  {
   "cell_type": "markdown",
   "id": "003ebf5b-7a28-4b2d-9664-b9fa78c0e1dc",
   "metadata": {},
   "source": [
    "The performance of the Logistic Regression model compared to the Naive Bayes model is similar to the previous classification. The X_train score is slightly higher, but the X_test score is lower. Hence, there is a bigger problem of overfitting. We will use the Naive Bayes model as well. "
   ]
  },
  {
   "cell_type": "code",
   "execution_count": 328,
   "id": "e2ff51b8-c208-4a07-959c-6c1754c506fe",
   "metadata": {},
   "outputs": [
    {
     "data": {
      "image/png": "[encoded data removed]",
      "text/plain": [
       "<Figure size 432x288 with 2 Axes>"
      ]
     },
     "metadata": {
      "needs_background": "light"
     },
     "output_type": "display_data"
    }
   ],
   "source": [
    "yhat = grid.predict(X_test)\n",
    "confusion_matrix(y_test, yhat)\n",
    "ConfusionMatrixDisplay.from_predictions(y_test, yhat);"
   ]
  },
  {
   "cell_type": "markdown",
   "id": "6dd83e01-439e-4631-8b40-ddbee7e5f784",
   "metadata": {},
   "source": [
    "The Confusion Matrix shows that there were around the same proportion of errors in which the model predicted a comment to be from the Hispanic subreddit, when it was actually from the AAPI subreddit and the other way around (12 instances out of 62 and 10 instances out of 52). "
   ]
  },
  {
   "cell_type": "code",
   "execution_count": 329,
   "id": "83f19696-0f5f-445b-8d2d-05b9ca37de75",
   "metadata": {},
   "outputs": [
    {
     "data": {
      "text/html": [
       "<div>\n",
       "<style scoped>\n",
       "    .dataframe tbody tr th:only-of-type {\n",
       "        vertical-align: middle;\n",
       "    }\n",
       "\n",
       "    .dataframe tbody tr th {\n",
       "        vertical-align: top;\n",
       "    }\n",
       "\n",
       "    .dataframe thead th {\n",
       "        text-align: right;\n",
       "    }\n",
       "</style>\n",
       "<table border=\"1\" class=\"dataframe\">\n",
       "  <thead>\n",
       "    <tr style=\"text-align: right;\">\n",
       "      <th></th>\n",
       "      <th>Coefficient</th>\n",
       "      <th>Words</th>\n",
       "    </tr>\n",
       "  </thead>\n",
       "  <tbody>\n",
       "    <tr>\n",
       "      <th>1999</th>\n",
       "      <td>[-8.429017500512511]</td>\n",
       "      <td>zero</td>\n",
       "    </tr>\n",
       "    <tr>\n",
       "      <th>711</th>\n",
       "      <td>[-8.429017500512511]</td>\n",
       "      <td>hablas</td>\n",
       "    </tr>\n",
       "    <tr>\n",
       "      <th>712</th>\n",
       "      <td>[-8.429017500512511]</td>\n",
       "      <td>half</td>\n",
       "    </tr>\n",
       "    <tr>\n",
       "      <th>713</th>\n",
       "      <td>[-8.429017500512511]</td>\n",
       "      <td>happen</td>\n",
       "    </tr>\n",
       "    <tr>\n",
       "      <th>1517</th>\n",
       "      <td>[-8.429017500512511]</td>\n",
       "      <td>sooo</td>\n",
       "    </tr>\n",
       "    <tr>\n",
       "      <th>1514</th>\n",
       "      <td>[-8.429017500512511]</td>\n",
       "      <td>son</td>\n",
       "    </tr>\n",
       "    <tr>\n",
       "      <th>1513</th>\n",
       "      <td>[-8.429017500512511]</td>\n",
       "      <td>somos</td>\n",
       "    </tr>\n",
       "    <tr>\n",
       "      <th>1511</th>\n",
       "      <td>[-8.429017500512511]</td>\n",
       "      <td>solicita</td>\n",
       "    </tr>\n",
       "    <tr>\n",
       "      <th>1510</th>\n",
       "      <td>[-8.429017500512511]</td>\n",
       "      <td>sol</td>\n",
       "    </tr>\n",
       "    <tr>\n",
       "      <th>1507</th>\n",
       "      <td>[-8.429017500512511]</td>\n",
       "      <td>socialize</td>\n",
       "    </tr>\n",
       "    <tr>\n",
       "      <th>725</th>\n",
       "      <td>[-8.429017500512511]</td>\n",
       "      <td>heart</td>\n",
       "    </tr>\n",
       "    <tr>\n",
       "      <th>726</th>\n",
       "      <td>[-8.429017500512511]</td>\n",
       "      <td>heavy</td>\n",
       "    </tr>\n",
       "    <tr>\n",
       "      <th>1505</th>\n",
       "      <td>[-8.429017500512511]</td>\n",
       "      <td>sober</td>\n",
       "    </tr>\n",
       "    <tr>\n",
       "      <th>732</th>\n",
       "      <td>[-8.429017500512511]</td>\n",
       "      <td>heritage</td>\n",
       "    </tr>\n",
       "    <tr>\n",
       "      <th>1499</th>\n",
       "      <td>[-8.429017500512511]</td>\n",
       "      <td>slur</td>\n",
       "    </tr>\n",
       "    <tr>\n",
       "      <th>735</th>\n",
       "      <td>[-8.429017500512511]</td>\n",
       "      <td>hispanic</td>\n",
       "    </tr>\n",
       "    <tr>\n",
       "      <th>736</th>\n",
       "      <td>[-8.429017500512511]</td>\n",
       "      <td>hispanicized</td>\n",
       "    </tr>\n",
       "    <tr>\n",
       "      <th>737</th>\n",
       "      <td>[-8.429017500512511]</td>\n",
       "      <td>hispanics</td>\n",
       "    </tr>\n",
       "    <tr>\n",
       "      <th>739</th>\n",
       "      <td>[-8.429017500512511]</td>\n",
       "      <td>históricamente</td>\n",
       "    </tr>\n",
       "    <tr>\n",
       "      <th>1494</th>\n",
       "      <td>[-8.429017500512511]</td>\n",
       "      <td>slaps</td>\n",
       "    </tr>\n",
       "  </tbody>\n",
       "</table>\n",
       "</div>"
      ],
      "text/plain": [
       "               Coefficient           Words\n",
       "1999  [-8.429017500512511]            zero\n",
       "711   [-8.429017500512511]          hablas\n",
       "712   [-8.429017500512511]            half\n",
       "713   [-8.429017500512511]          happen\n",
       "1517  [-8.429017500512511]            sooo\n",
       "1514  [-8.429017500512511]             son\n",
       "1513  [-8.429017500512511]           somos\n",
       "1511  [-8.429017500512511]        solicita\n",
       "1510  [-8.429017500512511]             sol\n",
       "1507  [-8.429017500512511]       socialize\n",
       "725   [-8.429017500512511]           heart\n",
       "726   [-8.429017500512511]           heavy\n",
       "1505  [-8.429017500512511]           sober\n",
       "732   [-8.429017500512511]        heritage\n",
       "1499  [-8.429017500512511]            slur\n",
       "735   [-8.429017500512511]        hispanic\n",
       "736   [-8.429017500512511]    hispanicized\n",
       "737   [-8.429017500512511]       hispanics\n",
       "739   [-8.429017500512511]  históricamente\n",
       "1494  [-8.429017500512511]           slaps"
      ]
     },
     "execution_count": 329,
     "metadata": {},
     "output_type": "execute_result"
    }
   ],
   "source": [
    "coefs = list(grid.best_estimator_.named_steps['model'].coef_.T)\n",
    "tokens = list(grid.best_estimator_.named_steps['vectorizer'].get_feature_names_out())\n",
    "impt_words = pd.DataFrame({'Coefficient': coefs, 'Words': tokens}).sort_values('Coefficient')\n",
    "impt_words[:20]"
   ]
  },
  {
   "cell_type": "markdown",
   "id": "f8ee7d39-9ee3-4112-9894-ac020ef634e8",
   "metadata": {},
   "source": [
    "This dataframe shows the 20 words that are most influential in classifying a comment as from the Hispanic subreddit. There are some words that are in Spanish, such as \"hablas\", \"solicita\", \"somos\", and \"sol\" which makes classification into Hispanic subreddit easier. Moreover, the mention of the word \"hispanic\" seems to be influential as well and classifies a comment into the Hispanic subreddit. "
   ]
  },
  {
   "cell_type": "code",
   "execution_count": 330,
   "id": "f94f0524-29e5-4165-a52c-7df0e2128d70",
   "metadata": {},
   "outputs": [
    {
     "data": {
      "text/html": [
       "<div>\n",
       "<style scoped>\n",
       "    .dataframe tbody tr th:only-of-type {\n",
       "        vertical-align: middle;\n",
       "    }\n",
       "\n",
       "    .dataframe tbody tr th {\n",
       "        vertical-align: top;\n",
       "    }\n",
       "\n",
       "    .dataframe thead th {\n",
       "        text-align: right;\n",
       "    }\n",
       "</style>\n",
       "<table border=\"1\" class=\"dataframe\">\n",
       "  <thead>\n",
       "    <tr style=\"text-align: right;\">\n",
       "      <th></th>\n",
       "      <th>Coefficient</th>\n",
       "      <th>Words</th>\n",
       "    </tr>\n",
       "  </thead>\n",
       "  <tbody>\n",
       "    <tr>\n",
       "      <th>709</th>\n",
       "      <td>[-5.9441108507245115]</td>\n",
       "      <td>guy</td>\n",
       "    </tr>\n",
       "    <tr>\n",
       "      <th>1730</th>\n",
       "      <td>[-5.9441108507245115]</td>\n",
       "      <td>time</td>\n",
       "    </tr>\n",
       "    <tr>\n",
       "      <th>1779</th>\n",
       "      <td>[-5.864068143050975]</td>\n",
       "      <td>trying</td>\n",
       "    </tr>\n",
       "    <tr>\n",
       "      <th>1273</th>\n",
       "      <td>[-5.789960170897253]</td>\n",
       "      <td>really</td>\n",
       "    </tr>\n",
       "    <tr>\n",
       "      <th>157</th>\n",
       "      <td>[-5.789960170897253]</td>\n",
       "      <td>broadway</td>\n",
       "    </tr>\n",
       "    <tr>\n",
       "      <th>1927</th>\n",
       "      <td>[-5.65642877827273]</td>\n",
       "      <td>white</td>\n",
       "    </tr>\n",
       "    <tr>\n",
       "      <th>1845</th>\n",
       "      <td>[-5.65642877827273]</td>\n",
       "      <td>ve</td>\n",
       "    </tr>\n",
       "    <tr>\n",
       "      <th>881</th>\n",
       "      <td>[-5.65642877827273]</td>\n",
       "      <td>lot</td>\n",
       "    </tr>\n",
       "    <tr>\n",
       "      <th>552</th>\n",
       "      <td>[-5.595804156456295]</td>\n",
       "      <td>east</td>\n",
       "    </tr>\n",
       "    <tr>\n",
       "      <th>1389</th>\n",
       "      <td>[-5.595804156456295]</td>\n",
       "      <td>say</td>\n",
       "    </tr>\n",
       "    <tr>\n",
       "      <th>1251</th>\n",
       "      <td>[-5.538645742616347]</td>\n",
       "      <td>racist</td>\n",
       "    </tr>\n",
       "    <tr>\n",
       "      <th>1250</th>\n",
       "      <td>[-5.384495062789089]</td>\n",
       "      <td>racism</td>\n",
       "    </tr>\n",
       "    <tr>\n",
       "      <th>97</th>\n",
       "      <td>[-5.384495062789089]</td>\n",
       "      <td>asia</td>\n",
       "    </tr>\n",
       "    <tr>\n",
       "      <th>811</th>\n",
       "      <td>[-5.096812990337307]</td>\n",
       "      <td>just</td>\n",
       "    </tr>\n",
       "    <tr>\n",
       "      <th>1710</th>\n",
       "      <td>[-5.061721670526037]</td>\n",
       "      <td>think</td>\n",
       "    </tr>\n",
       "    <tr>\n",
       "      <th>530</th>\n",
       "      <td>[-4.932509939046032]</td>\n",
       "      <td>don</td>\n",
       "    </tr>\n",
       "    <tr>\n",
       "      <th>855</th>\n",
       "      <td>[-4.8180995878682875]</td>\n",
       "      <td>like</td>\n",
       "    </tr>\n",
       "    <tr>\n",
       "      <th>1073</th>\n",
       "      <td>[-4.6913478822291435]</td>\n",
       "      <td>people</td>\n",
       "    </tr>\n",
       "    <tr>\n",
       "      <th>101</th>\n",
       "      <td>[-4.440033453948237]</td>\n",
       "      <td>asians</td>\n",
       "    </tr>\n",
       "    <tr>\n",
       "      <th>99</th>\n",
       "      <td>[-4.3181436363392]</td>\n",
       "      <td>asian</td>\n",
       "    </tr>\n",
       "  </tbody>\n",
       "</table>\n",
       "</div>"
      ],
      "text/plain": [
       "                Coefficient     Words\n",
       "709   [-5.9441108507245115]       guy\n",
       "1730  [-5.9441108507245115]      time\n",
       "1779   [-5.864068143050975]    trying\n",
       "1273   [-5.789960170897253]    really\n",
       "157    [-5.789960170897253]  broadway\n",
       "1927    [-5.65642877827273]     white\n",
       "1845    [-5.65642877827273]        ve\n",
       "881     [-5.65642877827273]       lot\n",
       "552    [-5.595804156456295]      east\n",
       "1389   [-5.595804156456295]       say\n",
       "1251   [-5.538645742616347]    racist\n",
       "1250   [-5.384495062789089]    racism\n",
       "97     [-5.384495062789089]      asia\n",
       "811    [-5.096812990337307]      just\n",
       "1710   [-5.061721670526037]     think\n",
       "530    [-4.932509939046032]       don\n",
       "855   [-4.8180995878682875]      like\n",
       "1073  [-4.6913478822291435]    people\n",
       "101    [-4.440033453948237]    asians\n",
       "99       [-4.3181436363392]     asian"
      ]
     },
     "execution_count": 330,
     "metadata": {},
     "output_type": "execute_result"
    }
   ],
   "source": [
    "impt_words[-20:]"
   ]
  },
  {
   "cell_type": "markdown",
   "id": "32ba2ac6-4255-4de7-adda-36d8c7d3340e",
   "metadata": {},
   "source": [
    "Meanwhile, in the AAPI subreddit, there are also influential words that contain the word \"asian,\" which makes the classification easier. Some words such as \"really\" and \"just\" do not contain a significant meaning, causing the errors shown in the Confusion Matrix. "
   ]
  },
  {
   "cell_type": "markdown",
   "id": "2f4a0aa3-b741-4da3-a45c-705ec55539aa",
   "metadata": {},
   "source": [
    "The presence of words that contain the same root, but are written in different forms, such as \"asia\" and \"asian\" demonstrate the need for stemming. Hence, here, I will stem the comments first and then conduct the same Naive Bayes model again. "
   ]
  },
  {
   "cell_type": "code",
   "execution_count": 331,
   "id": "de7d1b04-93cf-4ea1-87b8-9f5e91964159",
   "metadata": {},
   "outputs": [],
   "source": [
    "stemmer = PorterStemmer()"
   ]
  },
  {
   "cell_type": "code",
   "execution_count": 332,
   "id": "3cd22ace-8618-4257-a2b6-b8d105178739",
   "metadata": {},
   "outputs": [
    {
     "data": {
      "text/plain": [
       "['flush nativ here. the broad gener of east vs west coast are also quit disturbing. ny is not philli or boston. sf is not seattl or la.',\n",
       " \"same, idk what thi weirdo is on about. i live in queens, where vast stretch are veri unapologet and ruthlessli asian. to the point where alot of place don't even use english. which i argu is the peak american experience. it rather the demograph here aren't realli big on broadway musicals. and those of us who are, aren't go to wast money see a musical, especi in the age of the internet.\"]"
      ]
     },
     "execution_count": 332,
     "metadata": {},
     "output_type": "execute_result"
    }
   ],
   "source": [
    "# ls_aapi_splt splits each comment into separate tokens within a list for stemming. \n",
    "ls_aapi_splt= []\n",
    "\n",
    "for cmt in ls_aapi:\n",
    "    cmt_split = cmt.split()\n",
    "    ls_aapi_splt.append(cmt_split)\n",
    "\n",
    "ls_aapi_stem = []\n",
    "\n",
    "for cmts in ls_aapi_splt:\n",
    "    ls_cmt = []\n",
    "    for words in cmts:\n",
    "        ls_cmt.append(stemmer.stem(words))\n",
    "    sep = \" \"\n",
    "    cmt = sep.join(ls_cmt)\n",
    "    ls_aapi_stem.append(cmt)\n",
    "\n",
    "# We see here that each word in the comments are all reducted to their root form. \n",
    "ls_aapi_stem[:2]"
   ]
  },
  {
   "cell_type": "code",
   "execution_count": 333,
   "id": "803b5443-d889-4e7f-8c21-ed37651ab30d",
   "metadata": {},
   "outputs": [
    {
     "data": {
      "text/plain": [
       "['i might be realli late but spanish is my nativ language. when i wa younger i wa fluent in it and then as i went on to elementari school i wa forc to learn english which in turn made me forget most of my spanish. i had to take speech class as well and i even had a 504 which i think is due to the fact that i wasn’t use to english that well. now i’m fluent in english and i can understand everyth in spanish it’ just difficult for me to speak it.',\n",
       " 'thi guy ha never heard of wet foot dri foot for 100 please!']"
      ]
     },
     "execution_count": 333,
     "metadata": {},
     "output_type": "execute_result"
    }
   ],
   "source": [
    "# ls_hisp_splt splits each comment into separate tokens within a list for stemming. \n",
    "ls_hisp_splt= []\n",
    "\n",
    "for cmt in ls_hisp:\n",
    "    cmt_split = cmt.split()\n",
    "    ls_hisp_splt.append(cmt_split)\n",
    "\n",
    "ls_hisp_stem = []\n",
    "\n",
    "for cmts in ls_hisp_splt:\n",
    "    ls_cmt = []\n",
    "    for words in cmts:\n",
    "        ls_cmt.append(stemmer.stem(words))\n",
    "    sep = \" \"\n",
    "    cmt = sep.join(ls_cmt)\n",
    "    ls_hisp_stem.append(cmt)\n",
    "\n",
    "# We see here that each word in the comments are all reducted to their root form. \n",
    "ls_hisp_stem[:2]"
   ]
  },
  {
   "cell_type": "code",
   "execution_count": 334,
   "id": "ad68992f-e171-40e5-a5ee-fe13bf9abd61",
   "metadata": {},
   "outputs": [],
   "source": [
    "ls_ah_stem = []\n",
    "for comments in ls_aapi_stem:\n",
    "    ls_ah_stem.append(comments)\n",
    "for commentss in ls_hisp_stem:\n",
    "    ls_ah_stem.append(commentss)\n",
    "    \n",
    "all_ah_stem= {}\n",
    "\n",
    "for x in ls_ah_stem:\n",
    "    if x in ls_aapi_stem:\n",
    "        eth = 'aapi'\n",
    "    else: \n",
    "        eth = 'hisp'\n",
    "    all_ah_stem[x] = eth\n",
    "\n",
    "# df_ah contains the comments from the AAPI and Hispanic subreddits. \n",
    "df_ah_stem = pd.DataFrame({'Comment': list(all_ah_stem.keys()), 'Ethnicity': list(all_ah_stem.values())})\n",
    "\n",
    "# Make binary variable (1 means AAPI subreddit, 0 means Hispanic subreddit)\n",
    "df_ah_stem['binary'] = np.where(df_ah_stem['Ethnicity'] == 'aapi', 1, 0)\n",
    "\n",
    "X = df_ah_stem['Comment']\n",
    "y = df_ah_stem['binary']\n",
    "\n",
    "# Train test split\n",
    "X_train, X_test, y_train, y_test = train_test_split(X, y, stratify = y, random_state=22)"
   ]
  },
  {
   "cell_type": "code",
   "execution_count": 335,
   "id": "c8adbc14-53f5-4a2d-a24f-9f7439a6f066",
   "metadata": {},
   "outputs": [
    {
     "name": "stdout",
     "output_type": "stream",
     "text": [
      "Best score:  0.8558823529411764\n",
      "Best parameters:  {'vectorizer__max_features': 2000, 'vectorizer__min_df': 1, 'vectorizer__ngram_range': (1, 1)}\n",
      "Score X_train:  0.9588235294117647\n",
      "Score X_test:  0.8157894736842105\n"
     ]
    }
   ],
   "source": [
    "pipe = Pipeline([('vectorizer', CountVectorizer(stop_words='english')), ('model', MultinomialNB())])\n",
    "\n",
    "# GridSearch\n",
    "params = {'vectorizer__min_df': [1, 2, 3, 4],\n",
    "          'vectorizer__ngram_range': [(1, 1), (1, 2)], \n",
    "          'vectorizer__max_features': [2000, 3000, 4000, 5000]}\n",
    "\n",
    "grid = GridSearchCV(pipe, param_grid = params, cv=5)\n",
    "grid.fit(X_train, y_train)\n",
    "\n",
    "print(\"Best score: \", grid.best_score_)\n",
    "print(\"Best parameters: \", grid.best_params_)\n",
    "print(\"Score X_train: \", grid.score(X_train, y_train))\n",
    "print(\"Score X_test: \", grid.score(X_test, y_test))"
   ]
  },
  {
   "cell_type": "markdown",
   "id": "e3b5654a-f5df-48ef-a211-adefee71484f",
   "metadata": {},
   "source": [
    "A Gridsearch with a Naive Bayes model with the stemmed comments show that the scores are not that different from the model without stemming. The X_train data score is slightly lower, compared to 0.96 from the previous model. But the X_test score is slightly higher, meaning that there is slightly less overfitting in this model with stemming. The scores are all above the baseline accuracy. "
   ]
  },
  {
   "cell_type": "code",
   "execution_count": 336,
   "id": "634383ab-8e28-4da4-8de8-c79851407ebd",
   "metadata": {},
   "outputs": [
    {
     "data": {
      "image/png": "[encoded data removed]",
      "text/plain": [
       "<Figure size 432x288 with 2 Axes>"
      ]
     },
     "metadata": {
      "needs_background": "light"
     },
     "output_type": "display_data"
    }
   ],
   "source": [
    "yhat = grid.predict(X_test)\n",
    "confusion_matrix(y_test, yhat)\n",
    "ConfusionMatrixDisplay.from_predictions(y_test, yhat);"
   ]
  },
  {
   "cell_type": "markdown",
   "id": "e06ff849-137f-46ba-a46f-2a893bab95de",
   "metadata": {},
   "source": [
    "The distribution of erros is similar here. It seems that stemming did not help improving the accuracy by a lot. "
   ]
  },
  {
   "cell_type": "code",
   "execution_count": 337,
   "id": "6058fc37-4253-4648-87f6-66d73cf0c8e4",
   "metadata": {},
   "outputs": [
    {
     "data": {
      "text/html": [
       "<div>\n",
       "<style scoped>\n",
       "    .dataframe tbody tr th:only-of-type {\n",
       "        vertical-align: middle;\n",
       "    }\n",
       "\n",
       "    .dataframe tbody tr th {\n",
       "        vertical-align: top;\n",
       "    }\n",
       "\n",
       "    .dataframe thead th {\n",
       "        text-align: right;\n",
       "    }\n",
       "</style>\n",
       "<table border=\"1\" class=\"dataframe\">\n",
       "  <thead>\n",
       "    <tr style=\"text-align: right;\">\n",
       "      <th></th>\n",
       "      <th>Coefficient</th>\n",
       "      <th>Words</th>\n",
       "    </tr>\n",
       "  </thead>\n",
       "  <tbody>\n",
       "    <tr>\n",
       "      <th>999</th>\n",
       "      <td>[-8.483222671845084]</td>\n",
       "      <td>mexico</td>\n",
       "    </tr>\n",
       "    <tr>\n",
       "      <th>1119</th>\n",
       "      <td>[-8.483222671845084]</td>\n",
       "      <td>paperwork</td>\n",
       "    </tr>\n",
       "    <tr>\n",
       "      <th>1118</th>\n",
       "      <td>[-8.483222671845084]</td>\n",
       "      <td>panamaniand</td>\n",
       "    </tr>\n",
       "    <tr>\n",
       "      <th>1116</th>\n",
       "      <td>[-8.483222671845084]</td>\n",
       "      <td>palabra</td>\n",
       "    </tr>\n",
       "    <tr>\n",
       "      <th>1115</th>\n",
       "      <td>[-8.483222671845084]</td>\n",
       "      <td>pair</td>\n",
       "    </tr>\n",
       "    <tr>\n",
       "      <th>1111</th>\n",
       "      <td>[-8.483222671845084]</td>\n",
       "      <td>padre</td>\n",
       "    </tr>\n",
       "    <tr>\n",
       "      <th>1110</th>\n",
       "      <td>[-8.483222671845084]</td>\n",
       "      <td>pack</td>\n",
       "    </tr>\n",
       "    <tr>\n",
       "      <th>1121</th>\n",
       "      <td>[-8.483222671845084]</td>\n",
       "      <td>para</td>\n",
       "    </tr>\n",
       "    <tr>\n",
       "      <th>1108</th>\n",
       "      <td>[-8.483222671845084]</td>\n",
       "      <td>pa</td>\n",
       "    </tr>\n",
       "    <tr>\n",
       "      <th>1102</th>\n",
       "      <td>[-8.483222671845084]</td>\n",
       "      <td>overarch</td>\n",
       "    </tr>\n",
       "    <tr>\n",
       "      <th>1101</th>\n",
       "      <td>[-8.483222671845084]</td>\n",
       "      <td>overal</td>\n",
       "    </tr>\n",
       "    <tr>\n",
       "      <th>1099</th>\n",
       "      <td>[-8.483222671845084]</td>\n",
       "      <td>outcom</td>\n",
       "    </tr>\n",
       "    <tr>\n",
       "      <th>1098</th>\n",
       "      <td>[-8.483222671845084]</td>\n",
       "      <td>ourselv</td>\n",
       "    </tr>\n",
       "    <tr>\n",
       "      <th>1097</th>\n",
       "      <td>[-8.483222671845084]</td>\n",
       "      <td>otherwis</td>\n",
       "    </tr>\n",
       "    <tr>\n",
       "      <th>1096</th>\n",
       "      <td>[-8.483222671845084]</td>\n",
       "      <td>otherness</td>\n",
       "    </tr>\n",
       "    <tr>\n",
       "      <th>1107</th>\n",
       "      <td>[-8.483222671845084]</td>\n",
       "      <td>oír</td>\n",
       "    </tr>\n",
       "    <tr>\n",
       "      <th>1122</th>\n",
       "      <td>[-8.483222671845084]</td>\n",
       "      <td>parad</td>\n",
       "    </tr>\n",
       "    <tr>\n",
       "      <th>1125</th>\n",
       "      <td>[-8.483222671845084]</td>\n",
       "      <td>parti</td>\n",
       "    </tr>\n",
       "    <tr>\n",
       "      <th>1130</th>\n",
       "      <td>[-8.483222671845084]</td>\n",
       "      <td>partli</td>\n",
       "    </tr>\n",
       "    <tr>\n",
       "      <th>1164</th>\n",
       "      <td>[-8.483222671845084]</td>\n",
       "      <td>personally</td>\n",
       "    </tr>\n",
       "  </tbody>\n",
       "</table>\n",
       "</div>"
      ],
      "text/plain": [
       "               Coefficient        Words\n",
       "999   [-8.483222671845084]       mexico\n",
       "1119  [-8.483222671845084]    paperwork\n",
       "1118  [-8.483222671845084]  panamaniand\n",
       "1116  [-8.483222671845084]      palabra\n",
       "1115  [-8.483222671845084]         pair\n",
       "1111  [-8.483222671845084]        padre\n",
       "1110  [-8.483222671845084]         pack\n",
       "1121  [-8.483222671845084]         para\n",
       "1108  [-8.483222671845084]           pa\n",
       "1102  [-8.483222671845084]     overarch\n",
       "1101  [-8.483222671845084]       overal\n",
       "1099  [-8.483222671845084]       outcom\n",
       "1098  [-8.483222671845084]      ourselv\n",
       "1097  [-8.483222671845084]     otherwis\n",
       "1096  [-8.483222671845084]    otherness\n",
       "1107  [-8.483222671845084]          oír\n",
       "1122  [-8.483222671845084]        parad\n",
       "1125  [-8.483222671845084]        parti\n",
       "1130  [-8.483222671845084]       partli\n",
       "1164  [-8.483222671845084]   personally"
      ]
     },
     "execution_count": 337,
     "metadata": {},
     "output_type": "execute_result"
    }
   ],
   "source": [
    "coefs = list(grid.best_estimator_.named_steps['model'].coef_.T)\n",
    "tokens = list(grid.best_estimator_.named_steps['vectorizer'].get_feature_names_out())\n",
    "impt_words = pd.DataFrame({'Coefficient': coefs, 'Words': tokens}).sort_values('Coefficient')\n",
    "impt_words[:20]"
   ]
  },
  {
   "cell_type": "markdown",
   "id": "644afd46-45b0-4c70-b44b-8a84d2f900b2",
   "metadata": {},
   "source": [
    "This table shows the list of the most influential stemmed words in classifying a comment as Hispanic subreddit. Now, the country of Mexico appears in the list, meaning that variations of the word \"Mexico\" has appeared frequently in the Hispanic comments. Again, we see some Spanish words that were influential. "
   ]
  },
  {
   "cell_type": "code",
   "execution_count": 338,
   "id": "3c10d44d-1e7b-4f0d-8125-07b9b58517ee",
   "metadata": {},
   "outputs": [
    {
     "data": {
      "text/html": [
       "<div>\n",
       "<style scoped>\n",
       "    .dataframe tbody tr th:only-of-type {\n",
       "        vertical-align: middle;\n",
       "    }\n",
       "\n",
       "    .dataframe tbody tr th {\n",
       "        vertical-align: top;\n",
       "    }\n",
       "\n",
       "    .dataframe thead th {\n",
       "        text-align: right;\n",
       "    }\n",
       "</style>\n",
       "<table border=\"1\" class=\"dataframe\">\n",
       "  <thead>\n",
       "    <tr style=\"text-align: right;\">\n",
       "      <th></th>\n",
       "      <th>Coefficient</th>\n",
       "      <th>Words</th>\n",
       "    </tr>\n",
       "  </thead>\n",
       "  <tbody>\n",
       "    <tr>\n",
       "      <th>1737</th>\n",
       "      <td>[-5.7751724707428735]</td>\n",
       "      <td>thing</td>\n",
       "    </tr>\n",
       "    <tr>\n",
       "      <th>1935</th>\n",
       "      <td>[-5.7106339496053025]</td>\n",
       "      <td>white</td>\n",
       "    </tr>\n",
       "    <tr>\n",
       "      <th>965</th>\n",
       "      <td>[-5.7106339496053025]</td>\n",
       "      <td>lot</td>\n",
       "    </tr>\n",
       "    <tr>\n",
       "      <th>658</th>\n",
       "      <td>[-5.650009327788868]</td>\n",
       "      <td>east</td>\n",
       "    </tr>\n",
       "    <tr>\n",
       "      <th>809</th>\n",
       "      <td>[-5.650009327788868]</td>\n",
       "      <td>ha</td>\n",
       "    </tr>\n",
       "    <tr>\n",
       "      <th>1790</th>\n",
       "      <td>[-5.487490398291094]</td>\n",
       "      <td>tri</td>\n",
       "    </tr>\n",
       "    <tr>\n",
       "      <th>218</th>\n",
       "      <td>[-5.487490398291094]</td>\n",
       "      <td>becaus</td>\n",
       "    </tr>\n",
       "    <tr>\n",
       "      <th>970</th>\n",
       "      <td>[-5.487490398291094]</td>\n",
       "      <td>make</td>\n",
       "    </tr>\n",
       "    <tr>\n",
       "      <th>173</th>\n",
       "      <td>[-5.4387002341216615]</td>\n",
       "      <td>asia</td>\n",
       "    </tr>\n",
       "    <tr>\n",
       "      <th>1320</th>\n",
       "      <td>[-5.4387002341216615]</td>\n",
       "      <td>racism</td>\n",
       "    </tr>\n",
       "    <tr>\n",
       "      <th>1321</th>\n",
       "      <td>[-5.4387002341216615]</td>\n",
       "      <td>racist</td>\n",
       "    </tr>\n",
       "    <tr>\n",
       "      <th>1450</th>\n",
       "      <td>[-5.187385805840755]</td>\n",
       "      <td>say</td>\n",
       "    </tr>\n",
       "    <tr>\n",
       "      <th>910</th>\n",
       "      <td>[-5.15101816166988]</td>\n",
       "      <td>just</td>\n",
       "    </tr>\n",
       "    <tr>\n",
       "      <th>1739</th>\n",
       "      <td>[-5.049235467359938]</td>\n",
       "      <td>think</td>\n",
       "    </tr>\n",
       "    <tr>\n",
       "      <th>1896</th>\n",
       "      <td>[-5.049235467359938]</td>\n",
       "      <td>wa</td>\n",
       "    </tr>\n",
       "    <tr>\n",
       "      <th>636</th>\n",
       "      <td>[-4.986715110378604]</td>\n",
       "      <td>don</td>\n",
       "    </tr>\n",
       "    <tr>\n",
       "      <th>1149</th>\n",
       "      <td>[-4.899703733388974]</td>\n",
       "      <td>peopl</td>\n",
       "    </tr>\n",
       "    <tr>\n",
       "      <th>945</th>\n",
       "      <td>[-4.794343217731148]</td>\n",
       "      <td>like</td>\n",
       "    </tr>\n",
       "    <tr>\n",
       "      <th>1736</th>\n",
       "      <td>[-4.372348807671773]</td>\n",
       "      <td>thi</td>\n",
       "    </tr>\n",
       "    <tr>\n",
       "      <th>175</th>\n",
       "      <td>[-3.8681021550038244]</td>\n",
       "      <td>asian</td>\n",
       "    </tr>\n",
       "  </tbody>\n",
       "</table>\n",
       "</div>"
      ],
      "text/plain": [
       "                Coefficient   Words\n",
       "1737  [-5.7751724707428735]   thing\n",
       "1935  [-5.7106339496053025]   white\n",
       "965   [-5.7106339496053025]     lot\n",
       "658    [-5.650009327788868]    east\n",
       "809    [-5.650009327788868]      ha\n",
       "1790   [-5.487490398291094]     tri\n",
       "218    [-5.487490398291094]  becaus\n",
       "970    [-5.487490398291094]    make\n",
       "173   [-5.4387002341216615]    asia\n",
       "1320  [-5.4387002341216615]  racism\n",
       "1321  [-5.4387002341216615]  racist\n",
       "1450   [-5.187385805840755]     say\n",
       "910     [-5.15101816166988]    just\n",
       "1739   [-5.049235467359938]   think\n",
       "1896   [-5.049235467359938]      wa\n",
       "636    [-4.986715110378604]     don\n",
       "1149   [-4.899703733388974]   peopl\n",
       "945    [-4.794343217731148]    like\n",
       "1736   [-4.372348807671773]     thi\n",
       "175   [-3.8681021550038244]   asian"
      ]
     },
     "execution_count": 338,
     "metadata": {},
     "output_type": "execute_result"
    }
   ],
   "source": [
    "impt_words[-20:]"
   ]
  },
  {
   "cell_type": "markdown",
   "id": "a2aac6fa-529d-4797-a273-61627d908e13",
   "metadata": {},
   "source": [
    "For the AAPI subreddit, wee see that the word \"asia\" is much more influential now, mostly likely because a lot of variations of the wor dhas appeared on the AAPI comments. Again, some words such as \"thing\", \"lot\" and \"just\" that do not contain a significant meaning may make it difficult to classify, hence causing the errors. "
   ]
  },
  {
   "cell_type": "markdown",
   "id": "97f2ef53-b26b-42d9-8c93-0059c3d27da1",
   "metadata": {},
   "source": [
    "### Conclusion"
   ]
  },
  {
   "cell_type": "markdown",
   "id": "f2eabb24-99aa-4eed-b8ff-e974f31d3c7e",
   "metadata": {},
   "source": [
    "This notebook gathered data of 250 comments on Reddit from 4 ethnic subreddits - Black People Twitter, White People Twitter, Asian American and Hispanic. The analysis of these data included looking at the most frequently occuring words and bigrams, overall sentiment analysis, and binary classification of races that are often related to one another. This dataset is not sufficient to draw out large conclusions of the four ethnicities, but it does show interesting insights into which conversations are happening frequently among each community and the characteristics of each community, which may lead to other research questions. "
   ]
  },
  {
   "cell_type": "markdown",
   "id": "f01c5cb4-b93d-40f6-a4b5-adccea1a4ec5",
   "metadata": {},
   "source": [
    "To continue the findings of this analysis, larger datasets of social media communities of specific ethnicities could be analyzed. This analysis uses Reddit, as Reddit is a completely anonymous community with very low barriers of entry. Twitter has large ethnicity groups that are highly active as well and such analysis might provide interesting insights into the similarities and differences of different ethnicities, which show an important side of our society. "
   ]
  },
  {
   "cell_type": "markdown",
   "id": "393199f0-9ccc-436e-bb62-028f2e2049ff",
   "metadata": {},
   "source": [
    "Also, with the social media data, more higher level natural language processing analysis could be done. There are many previous literature discussing the presence of racism, sexism, and other forms of discrimination present on specific racial/ ethnic groups. Higher levels of natural language processing could show how such discrimination happens online, which will show how to prevent them. "
   ]
  }
 ],
 "metadata": {
  "kernelspec": {
   "display_name": "Python 3 (ipykernel)",
   "language": "python",
   "name": "python3"
  },
  "language_info": {
   "codemirror_mode": {
    "name": "ipython",
    "version": 3
   },
   "file_extension": ".py",
   "mimetype": "text/x-python",
   "name": "python",
   "nbconvert_exporter": "python",
   "pygments_lexer": "ipython3",
   "version": "3.9.12"
  }
 },
 "nbformat": 4,
 "nbformat_minor": 5
}
